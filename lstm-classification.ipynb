{
 "cells": [
  {
   "cell_type": "code",
   "metadata": {
    "execution": {
     "iopub.execute_input": "2024-12-18T15:22:21.874943Z",
     "iopub.status.busy": "2024-12-18T15:22:21.874461Z",
     "iopub.status.idle": "2024-12-18T15:22:21.881479Z",
     "shell.execute_reply": "2024-12-18T15:22:21.880261Z",
     "shell.execute_reply.started": "2024-12-18T15:22:21.874897Z"
    },
    "trusted": true,
    "ExecuteTime": {
     "end_time": "2025-01-15T04:04:58.400601Z",
     "start_time": "2025-01-15T04:04:58.366431Z"
    }
   },
   "source": [
    "import pandas as pd\n",
    "import string"
   ],
   "outputs": [],
   "execution_count": 31
  },
  {
   "cell_type": "code",
   "metadata": {
    "execution": {
     "iopub.execute_input": "2024-12-18T15:22:21.883857Z",
     "iopub.status.busy": "2024-12-18T15:22:21.883439Z",
     "iopub.status.idle": "2024-12-18T15:22:21.897337Z",
     "shell.execute_reply": "2024-12-18T15:22:21.896199Z",
     "shell.execute_reply.started": "2024-12-18T15:22:21.883808Z"
    },
    "trusted": true,
    "ExecuteTime": {
     "end_time": "2025-01-15T04:04:58.416090Z",
     "start_time": "2025-01-15T04:04:58.408599Z"
    }
   },
   "source": [
    "def replace_polish_lowercase(text):\n",
    "    polish_to_latin = {\n",
    "        'ą': 'a', 'ć': 'c', 'ę': 'e', 'ł': 'l', 'ń': 'n', \n",
    "        'ó': 'o', 'ś': 's', 'ź': 'z', 'ż': 'z'\n",
    "    }\n",
    "    return ''.join(polish_to_latin.get(char, char) for char in text)\n",
    "\n",
    "def preprocess_text(text):\n",
    "    # Lowercase\n",
    "    text = text.lower()\n",
    "    # Remove punctuation\n",
    "    text = text.translate(str.maketrans('', '', string.punctuation))\n",
    "    # Remove polish letters\n",
    "    text = replace_polish_lowercase(text)\n",
    "    # Tokenize (split by whitespace)\n",
    "    tokens = text.split()\n",
    "    return ' '.join(tokens)  # Join tokens back into a string for TF-IDF"
   ],
   "outputs": [],
   "execution_count": 32
  },
  {
   "cell_type": "code",
   "metadata": {
    "execution": {
     "iopub.execute_input": "2024-12-18T15:22:21.899230Z",
     "iopub.status.busy": "2024-12-18T15:22:21.898661Z",
     "iopub.status.idle": "2024-12-18T15:22:21.914023Z",
     "shell.execute_reply": "2024-12-18T15:22:21.912891Z",
     "shell.execute_reply.started": "2024-12-18T15:22:21.899181Z"
    },
    "trusted": true,
    "ExecuteTime": {
     "end_time": "2025-01-15T04:04:58.543606Z",
     "start_time": "2025-01-15T04:04:58.520606Z"
    }
   },
   "source": [
    "FILENAME_DEV = './data/dataset_conll/all.sentence.dev.txt'\n",
    "FILENAME_TRAIN = './data/dataset_conll/all.sentence.train.txt'\n",
    "FILENAME_TEST = './data/dataset_conll/all.sentence.test.txt'\n",
    "\n",
    "LABELS = {\n",
    "    \"__label__z_minus_m\": \"Negative sentiment\", \n",
    "    \"__label__z_plus_m\": \"Positive sentiment\",\n",
    "    \"__label__z_zero\": \"No sentiment\",\n",
    "    \"__label__z_amb\": \"Unsure\",\n",
    "    }\n",
    "\n",
    "labels_map = {\n",
    "        'Negative sentiment': 0,\n",
    "        'Positive sentiment': 1,\n",
    "        'No sentiment': 2,\n",
    "        'Unsure': 3,\n",
    "\n",
    "    }"
   ],
   "outputs": [],
   "execution_count": 33
  },
  {
   "cell_type": "code",
   "metadata": {
    "execution": {
     "iopub.execute_input": "2024-12-18T15:22:21.916604Z",
     "iopub.status.busy": "2024-12-18T15:22:21.916242Z",
     "iopub.status.idle": "2024-12-18T15:22:21.929248Z",
     "shell.execute_reply": "2024-12-18T15:22:21.928189Z",
     "shell.execute_reply.started": "2024-12-18T15:22:21.916573Z"
    },
    "trusted": true,
    "ExecuteTime": {
     "end_time": "2025-01-15T04:04:58.625265Z",
     "start_time": "2025-01-15T04:04:58.595265Z"
    }
   },
   "source": [
    "def load_df(filename):\n",
    "    with open(filename, 'r', encoding=\"utf8\") as f:\n",
    "        lines = f.readlines()\n",
    "        data = [line.strip() for line in lines]\n",
    "        # get last word from each item as a label and match with data\n",
    "        labeled_data = []\n",
    "        for item in data:\n",
    "            label = item.split()[-1]\n",
    "            sentence_data = ' '.join(item.split()[:-1])\n",
    "            labeled_data.append((sentence_data, LABELS[label]))\n",
    "\n",
    "        # create a dataframe\n",
    "        df = pd.DataFrame(labeled_data, columns=['text', 'labels'])\n",
    "        return df"
   ],
   "outputs": [],
   "execution_count": 34
  },
  {
   "cell_type": "markdown",
   "metadata": {},
   "source": [
    "# Read data"
   ]
  },
  {
   "cell_type": "code",
   "metadata": {
    "execution": {
     "iopub.execute_input": "2024-12-18T15:22:21.931491Z",
     "iopub.status.busy": "2024-12-18T15:22:21.930660Z",
     "iopub.status.idle": "2024-12-18T15:22:22.378513Z",
     "shell.execute_reply": "2024-12-18T15:22:22.377463Z",
     "shell.execute_reply.started": "2024-12-18T15:22:21.931426Z"
    },
    "trusted": true,
    "ExecuteTime": {
     "end_time": "2025-01-15T04:04:59.181352Z",
     "start_time": "2025-01-15T04:04:58.646262Z"
    }
   },
   "source": [
    "df_train = load_df(FILENAME_TRAIN)\n",
    "df_test = load_df(FILENAME_TEST)"
   ],
   "outputs": [],
   "execution_count": 35
  },
  {
   "cell_type": "code",
   "metadata": {
    "execution": {
     "iopub.execute_input": "2024-12-18T15:22:22.380310Z",
     "iopub.status.busy": "2024-12-18T15:22:22.379855Z",
     "iopub.status.idle": "2024-12-18T15:22:23.788274Z",
     "shell.execute_reply": "2024-12-18T15:22:23.787174Z",
     "shell.execute_reply.started": "2024-12-18T15:22:22.380266Z"
    },
    "trusted": true,
    "ExecuteTime": {
     "end_time": "2025-01-15T04:05:02.314308Z",
     "start_time": "2025-01-15T04:04:59.295308Z"
    }
   },
   "source": [
    "df_train['text'] = df_train['text'].apply(preprocess_text)\n",
    "df_test['text'] = df_test['text'].apply(preprocess_text)"
   ],
   "outputs": [],
   "execution_count": 36
  },
  {
   "cell_type": "code",
   "metadata": {
    "execution": {
     "iopub.execute_input": "2024-12-18T15:22:23.789892Z",
     "iopub.status.busy": "2024-12-18T15:22:23.789565Z",
     "iopub.status.idle": "2024-12-18T15:22:23.809999Z",
     "shell.execute_reply": "2024-12-18T15:22:23.808897Z",
     "shell.execute_reply.started": "2024-12-18T15:22:23.789862Z"
    },
    "trusted": true,
    "ExecuteTime": {
     "end_time": "2025-01-15T04:05:02.355308Z",
     "start_time": "2025-01-15T04:05:02.330308Z"
    }
   },
   "source": [
    "df_train.sample(5)"
   ],
   "outputs": [
    {
     "data": {
      "text/plain": [
       "                                                    text              labels\n",
       "15768  obecnie nowotwory zlosliwe sa w polsce druga p...        No sentiment\n",
       "20329  z doswiadczenia wiem ze jak ktos zadzwoni 4 si...        No sentiment\n",
       "10536  w trakcie wizyty taktownie slucha umiejetnie d...  Positive sentiment\n",
       "35903  po badaniu usg stwierdzil dysplazje obustronna...        No sentiment\n",
       "20968                       w ogole tylko jest jeden bar  Negative sentiment"
      ],
      "text/html": [
       "<div>\n",
       "<style scoped>\n",
       "    .dataframe tbody tr th:only-of-type {\n",
       "        vertical-align: middle;\n",
       "    }\n",
       "\n",
       "    .dataframe tbody tr th {\n",
       "        vertical-align: top;\n",
       "    }\n",
       "\n",
       "    .dataframe thead th {\n",
       "        text-align: right;\n",
       "    }\n",
       "</style>\n",
       "<table border=\"1\" class=\"dataframe\">\n",
       "  <thead>\n",
       "    <tr style=\"text-align: right;\">\n",
       "      <th></th>\n",
       "      <th>text</th>\n",
       "      <th>labels</th>\n",
       "    </tr>\n",
       "  </thead>\n",
       "  <tbody>\n",
       "    <tr>\n",
       "      <th>15768</th>\n",
       "      <td>obecnie nowotwory zlosliwe sa w polsce druga p...</td>\n",
       "      <td>No sentiment</td>\n",
       "    </tr>\n",
       "    <tr>\n",
       "      <th>20329</th>\n",
       "      <td>z doswiadczenia wiem ze jak ktos zadzwoni 4 si...</td>\n",
       "      <td>No sentiment</td>\n",
       "    </tr>\n",
       "    <tr>\n",
       "      <th>10536</th>\n",
       "      <td>w trakcie wizyty taktownie slucha umiejetnie d...</td>\n",
       "      <td>Positive sentiment</td>\n",
       "    </tr>\n",
       "    <tr>\n",
       "      <th>35903</th>\n",
       "      <td>po badaniu usg stwierdzil dysplazje obustronna...</td>\n",
       "      <td>No sentiment</td>\n",
       "    </tr>\n",
       "    <tr>\n",
       "      <th>20968</th>\n",
       "      <td>w ogole tylko jest jeden bar</td>\n",
       "      <td>Negative sentiment</td>\n",
       "    </tr>\n",
       "  </tbody>\n",
       "</table>\n",
       "</div>"
      ]
     },
     "execution_count": 37,
     "metadata": {},
     "output_type": "execute_result"
    }
   ],
   "execution_count": 37
  },
  {
   "cell_type": "markdown",
   "metadata": {},
   "source": [
    "# LSTM"
   ]
  },
  {
   "cell_type": "code",
   "metadata": {
    "execution": {
     "iopub.execute_input": "2024-12-18T15:22:23.812296Z",
     "iopub.status.busy": "2024-12-18T15:22:23.811778Z",
     "iopub.status.idle": "2024-12-18T15:22:27.216071Z",
     "shell.execute_reply": "2024-12-18T15:22:27.215024Z",
     "shell.execute_reply.started": "2024-12-18T15:22:23.812245Z"
    },
    "trusted": true,
    "ExecuteTime": {
     "end_time": "2025-01-15T04:05:02.488535Z",
     "start_time": "2025-01-15T04:05:02.470954Z"
    }
   },
   "source": [
    "import torch\n",
    "import torch.nn as nn\n",
    "import torch.optim as optim\n",
    "from torch.utils.data import Dataset, DataLoader\n",
    "from collections import Counter\n",
    "import numpy as np\n",
    "import torch.nn.functional as F"
   ],
   "outputs": [],
   "execution_count": 38
  },
  {
   "cell_type": "code",
   "metadata": {
    "execution": {
     "iopub.execute_input": "2024-12-18T15:22:27.219665Z",
     "iopub.status.busy": "2024-12-18T15:22:27.219215Z",
     "iopub.status.idle": "2024-12-18T15:22:27.227261Z",
     "shell.execute_reply": "2024-12-18T15:22:27.226182Z",
     "shell.execute_reply.started": "2024-12-18T15:22:27.219635Z"
    },
    "trusted": true,
    "ExecuteTime": {
     "end_time": "2025-01-15T04:05:02.571721Z",
     "start_time": "2025-01-15T04:05:02.561537Z"
    }
   },
   "source": [
    "class TextDataset(Dataset):\n",
    "    def __init__(self, texts, labels, vocab, max_length=100):\n",
    "        self.texts = texts\n",
    "        self.labels = labels\n",
    "        self.vocab = vocab\n",
    "        self.max_length = max_length\n",
    "        \n",
    "    def __len__(self):\n",
    "        return len(self.texts)\n",
    "    \n",
    "    def __getitem__(self, idx):\n",
    "        text = self.texts[idx]\n",
    "        label = labels_map[self.labels[idx]]\n",
    "        \n",
    "        # Convert text to indices\n",
    "        indices = [self.vocab.get(word, self.vocab['<UNK>']) for word in text.split()]\n",
    "        \n",
    "        # Pad or truncate to max_length\n",
    "        if len(indices) < self.max_length:\n",
    "            indices = indices + [self.vocab['<PAD>']] * (self.max_length - len(indices))\n",
    "        else:\n",
    "            indices = indices[:self.max_length]\n",
    "            \n",
    "        return (torch.tensor(indices, dtype=torch.long), \n",
    "                torch.tensor(label, dtype=torch.long))"
   ],
   "outputs": [],
   "execution_count": 39
  },
  {
   "cell_type": "code",
   "metadata": {
    "execution": {
     "iopub.execute_input": "2024-12-18T15:22:27.228627Z",
     "iopub.status.busy": "2024-12-18T15:22:27.228340Z",
     "iopub.status.idle": "2024-12-18T15:22:27.246402Z",
     "shell.execute_reply": "2024-12-18T15:22:27.245307Z",
     "shell.execute_reply.started": "2024-12-18T15:22:27.228600Z"
    },
    "trusted": true,
    "ExecuteTime": {
     "end_time": "2025-01-15T04:05:02.624150Z",
     "start_time": "2025-01-15T04:05:02.612618Z"
    }
   },
   "source": [
    "def build_vocab(texts, min_freq=2):\n",
    "    # Count word frequencies\n",
    "    word_counts = Counter()\n",
    "    for text in texts:\n",
    "        word_counts.update(text.split())\n",
    "    \n",
    "    # Create vocabulary\n",
    "    vocab = {'<PAD>': 0, '<UNK>': 1}\n",
    "    idx = 2\n",
    "    for word, count in word_counts.items():\n",
    "        if count >= min_freq:\n",
    "            vocab[word] = idx\n",
    "            idx += 1\n",
    "    \n",
    "    return vocab"
   ],
   "outputs": [],
   "execution_count": 40
  },
  {
   "cell_type": "code",
   "metadata": {
    "execution": {
     "iopub.execute_input": "2024-12-18T15:22:27.248579Z",
     "iopub.status.busy": "2024-12-18T15:22:27.247696Z",
     "iopub.status.idle": "2024-12-18T15:22:27.261549Z",
     "shell.execute_reply": "2024-12-18T15:22:27.260641Z",
     "shell.execute_reply.started": "2024-12-18T15:22:27.248534Z"
    },
    "trusted": true,
    "ExecuteTime": {
     "end_time": "2025-01-15T04:05:02.669446Z",
     "start_time": "2025-01-15T04:05:02.636135Z"
    }
   },
   "source": [
    "def train_model(model, train_loader, val_loader, criterion, optimizer, n_epochs):\n",
    "    device = torch.device('cuda' if torch.cuda.is_available() else 'cpu')\n",
    "    model = model.to(device)\n",
    "    \n",
    "    for epoch in range(n_epochs):\n",
    "        model.train()\n",
    "        train_loss = 0\n",
    "        train_correct = 0\n",
    "        train_total = 0\n",
    "        \n",
    "        for texts, labels in train_loader:\n",
    "            texts = texts.to(device)\n",
    "            labels = labels.to(device)\n",
    "            \n",
    "            optimizer.zero_grad()\n",
    "            logits = model(texts)\n",
    "            loss = criterion(logits, labels)\n",
    "            \n",
    "            loss.backward()\n",
    "            optimizer.step()\n",
    "            \n",
    "            train_loss += loss.item()\n",
    "            _, predicted = torch.max(logits, 1)\n",
    "            train_correct += (predicted == labels).sum().item()\n",
    "            train_total += labels.size(0)\n",
    "        \n",
    "        model.eval()\n",
    "        val_loss = 0\n",
    "        val_correct = 0\n",
    "        val_total = 0\n",
    "        \n",
    "        with torch.no_grad():\n",
    "            for texts, labels in val_loader:\n",
    "                texts = texts.to(device)\n",
    "                labels = labels.to(device)\n",
    "                \n",
    "                logits = model(texts)\n",
    "                loss = criterion(logits, labels)\n",
    "                \n",
    "                val_loss += loss.item()\n",
    "                _, predicted = torch.max(logits, 1)\n",
    "                val_correct += (predicted == labels).sum().item()\n",
    "                val_total += labels.size(0)\n",
    "\n",
    "        \n",
    "        print(f'Epoch {epoch+1}/{n_epochs}:')\n",
    "        print(f'Training Loss: {train_loss/len(train_loader):.4f}, Accuracy: {100*train_correct/train_total:.2f}%')\n",
    "        print(f'Validation Loss: {val_loss/len(val_loader):.4f}, Accuracy: {100*val_correct/val_total:.2f}%')"
   ],
   "outputs": [],
   "execution_count": 41
  },
  {
   "cell_type": "code",
   "metadata": {
    "execution": {
     "iopub.execute_input": "2024-12-18T15:22:27.263638Z",
     "iopub.status.busy": "2024-12-18T15:22:27.262869Z",
     "iopub.status.idle": "2024-12-18T15:22:27.280428Z",
     "shell.execute_reply": "2024-12-18T15:22:27.279407Z",
     "shell.execute_reply.started": "2024-12-18T15:22:27.263603Z"
    },
    "trusted": true,
    "ExecuteTime": {
     "end_time": "2025-01-15T04:05:02.785002Z",
     "start_time": "2025-01-15T04:05:02.776481Z"
    }
   },
   "source": [
    "class SentimentLSTM(nn.Module):\n",
    "    def __init__(self, vocab_size, embedding_dim, hidden_dim, n_layers, num_classes, dropout_rate=0.5):\n",
    "        super().__init__()\n",
    "        self.embedding = nn.Embedding(vocab_size, embedding_dim)\n",
    "        self.embed_dropout = nn.Dropout(dropout_rate)\n",
    "        \n",
    "        self.lstm = nn.LSTM(\n",
    "            embedding_dim, \n",
    "            hidden_dim, \n",
    "            n_layers, \n",
    "            batch_first=True,\n",
    "            bidirectional=True,\n",
    "            dropout=dropout_rate if n_layers > 1 else 0\n",
    "        )\n",
    "        \n",
    "        self.batch_norm = nn.BatchNorm1d(hidden_dim * 2)  # *2 for bidirectional\n",
    "        self.dropout = nn.Dropout(dropout_rate)\n",
    "        self.fc = nn.Linear(hidden_dim * 2, num_classes)\n",
    "        \n",
    "    def forward(self, text):\n",
    "        text = text.long()\n",
    "        \n",
    "        embedded = self.embedding(text)\n",
    "        embedded = self.embed_dropout(embedded)\n",
    "        \n",
    "        lstm_out, _ = self.lstm(embedded)\n",
    "        lstm_out = lstm_out[:, -1, :]\n",
    "        lstm_out = self.batch_norm(lstm_out)\n",
    "        lstm_out = self.dropout(lstm_out)\n",
    "        \n",
    "        return self.fc(lstm_out)"
   ],
   "outputs": [],
   "execution_count": 42
  },
  {
   "cell_type": "code",
   "metadata": {
    "execution": {
     "iopub.execute_input": "2024-12-18T15:22:27.281983Z",
     "iopub.status.busy": "2024-12-18T15:22:27.281631Z",
     "iopub.status.idle": "2024-12-18T15:22:28.541241Z",
     "shell.execute_reply": "2024-12-18T15:22:28.540175Z",
     "shell.execute_reply.started": "2024-12-18T15:22:27.281941Z"
    },
    "trusted": true,
    "ExecuteTime": {
     "end_time": "2025-01-15T04:06:09.604509Z",
     "start_time": "2025-01-15T04:06:09.452198Z"
    }
   },
   "source": [
    "vocab = build_vocab(df_train[\"text\"].to_numpy())\n",
    "\n",
    "train_dataset = TextDataset(df_train[\"text\"].to_numpy(), df_train[\"labels\"].to_numpy(), vocab)\n",
    "val_dataset = TextDataset(df_test[\"text\"].to_numpy(), df_test[\"labels\"].to_numpy(), vocab)\n",
    "\n",
    "batch_size = 256\n",
    "train_loader = DataLoader(train_dataset, batch_size=batch_size, shuffle=True)\n",
    "val_loader = DataLoader(val_dataset, batch_size=batch_size)\n",
    "\n",
    "model = SentimentLSTM(\n",
    "        vocab_size=len(vocab),\n",
    "        embedding_dim=100,\n",
    "        hidden_dim=64,\n",
    "        n_layers=2,\n",
    "        num_classes=4,\n",
    "        dropout_rate=0.4\n",
    "    )\n",
    "# best params:\n",
    "# model = SentimentLSTM(\n",
    "#         vocab_size=len(vocab),\n",
    "#         embedding_dim=100,\n",
    "#         hidden_dim=64,\n",
    "#         n_layers=2,\n",
    "#         num_classes=4,\n",
    "#         dropout_rate=0.4\n",
    "#     )\n",
    "# epochs = 30\n",
    "device = torch.device(\"cuda\" if torch.cuda.is_available() else \"cpu\")\n",
    "model.to(device)\n",
    "\n",
    "criterion = nn.CrossEntropyLoss()\n",
    "optimizer = optim.AdamW(model.parameters())"
   ],
   "outputs": [],
   "execution_count": 45
  },
  {
   "cell_type": "code",
   "metadata": {
    "execution": {
     "iopub.execute_input": "2024-12-18T15:22:28.543076Z",
     "iopub.status.busy": "2024-12-18T15:22:28.542620Z",
     "iopub.status.idle": "2024-12-18T15:24:27.924957Z",
     "shell.execute_reply": "2024-12-18T15:24:27.923956Z",
     "shell.execute_reply.started": "2024-12-18T15:22:28.543045Z"
    },
    "trusted": true,
    "ExecuteTime": {
     "end_time": "2025-01-15T04:07:44.704254Z",
     "start_time": "2025-01-15T04:06:11.776516Z"
    }
   },
   "source": [
    "train_model(model, train_loader, val_loader, criterion, optimizer, n_epochs=30)"
   ],
   "outputs": [
    {
     "name": "stdout",
     "output_type": "stream",
     "text": [
      "Epoch 1/30:\n",
      "Training Loss: 1.3927, Accuracy: 30.53%\n",
      "Validation Loss: 1.3225, Accuracy: 36.95%\n",
      "Epoch 2/30:\n",
      "Training Loss: 1.3348, Accuracy: 35.31%\n",
      "Validation Loss: 1.3216, Accuracy: 36.95%\n",
      "Epoch 3/30:\n",
      "Training Loss: 1.3276, Accuracy: 36.19%\n",
      "Validation Loss: 1.3183, Accuracy: 36.97%\n",
      "Epoch 4/30:\n",
      "Training Loss: 1.3252, Accuracy: 36.39%\n",
      "Validation Loss: 1.3190, Accuracy: 36.95%\n",
      "Epoch 5/30:\n",
      "Training Loss: 1.3245, Accuracy: 36.65%\n",
      "Validation Loss: 1.3182, Accuracy: 36.95%\n",
      "Epoch 6/30:\n",
      "Training Loss: 1.3244, Accuracy: 36.37%\n",
      "Validation Loss: 1.3183, Accuracy: 36.95%\n",
      "Epoch 7/30:\n",
      "Training Loss: 1.3240, Accuracy: 36.59%\n",
      "Validation Loss: 1.3191, Accuracy: 36.95%\n",
      "Epoch 8/30:\n",
      "Training Loss: 1.3232, Accuracy: 36.70%\n",
      "Validation Loss: 1.3182, Accuracy: 36.95%\n",
      "Epoch 9/30:\n",
      "Training Loss: 1.3235, Accuracy: 36.67%\n",
      "Validation Loss: 1.3188, Accuracy: 36.95%\n",
      "Epoch 10/30:\n",
      "Training Loss: 1.3229, Accuracy: 36.68%\n",
      "Validation Loss: 1.3187, Accuracy: 36.95%\n",
      "Epoch 11/30:\n",
      "Training Loss: 1.3227, Accuracy: 36.66%\n",
      "Validation Loss: 1.3180, Accuracy: 36.95%\n",
      "Epoch 12/30:\n",
      "Training Loss: 1.3224, Accuracy: 36.69%\n",
      "Validation Loss: 1.3048, Accuracy: 37.72%\n",
      "Epoch 13/30:\n",
      "Training Loss: 1.2296, Accuracy: 45.60%\n",
      "Validation Loss: 1.1237, Accuracy: 53.00%\n",
      "Epoch 14/30:\n",
      "Training Loss: 1.1127, Accuracy: 54.18%\n",
      "Validation Loss: 1.0457, Accuracy: 58.56%\n",
      "Epoch 15/30:\n",
      "Training Loss: 1.0418, Accuracy: 59.17%\n",
      "Validation Loss: 1.0070, Accuracy: 61.95%\n",
      "Epoch 16/30:\n",
      "Training Loss: 0.9986, Accuracy: 61.97%\n",
      "Validation Loss: 0.9813, Accuracy: 63.20%\n",
      "Epoch 17/30:\n",
      "Training Loss: 0.9674, Accuracy: 63.53%\n",
      "Validation Loss: 0.9744, Accuracy: 63.15%\n",
      "Epoch 18/30:\n",
      "Training Loss: 0.9539, Accuracy: 64.41%\n",
      "Validation Loss: 1.0024, Accuracy: 63.34%\n",
      "Epoch 19/30:\n",
      "Training Loss: 0.9486, Accuracy: 64.77%\n",
      "Validation Loss: 0.9733, Accuracy: 65.00%\n",
      "Epoch 20/30:\n",
      "Training Loss: 0.9198, Accuracy: 66.25%\n",
      "Validation Loss: 0.9676, Accuracy: 64.30%\n",
      "Epoch 21/30:\n",
      "Training Loss: 0.9608, Accuracy: 62.41%\n",
      "Validation Loss: 1.0020, Accuracy: 61.39%\n",
      "Epoch 22/30:\n",
      "Training Loss: 0.8880, Accuracy: 66.71%\n",
      "Validation Loss: 0.9127, Accuracy: 66.75%\n",
      "Epoch 23/30:\n",
      "Training Loss: 0.8107, Accuracy: 69.48%\n",
      "Validation Loss: 0.8718, Accuracy: 67.59%\n",
      "Epoch 24/30:\n",
      "Training Loss: 0.7821, Accuracy: 70.61%\n",
      "Validation Loss: 0.8426, Accuracy: 68.55%\n",
      "Epoch 25/30:\n",
      "Training Loss: 0.7552, Accuracy: 71.99%\n",
      "Validation Loss: 0.8465, Accuracy: 68.51%\n",
      "Epoch 26/30:\n",
      "Training Loss: 0.7314, Accuracy: 72.86%\n",
      "Validation Loss: 0.8791, Accuracy: 68.95%\n",
      "Epoch 27/30:\n",
      "Training Loss: 0.7092, Accuracy: 73.71%\n",
      "Validation Loss: 0.8623, Accuracy: 68.89%\n",
      "Epoch 28/30:\n",
      "Training Loss: 0.6920, Accuracy: 74.45%\n",
      "Validation Loss: 0.8387, Accuracy: 69.70%\n",
      "Epoch 29/30:\n",
      "Training Loss: 0.6748, Accuracy: 74.95%\n",
      "Validation Loss: 0.8437, Accuracy: 70.06%\n",
      "Epoch 30/30:\n",
      "Training Loss: 0.6560, Accuracy: 75.78%\n",
      "Validation Loss: 0.8079, Accuracy: 70.17%\n"
     ]
    }
   ],
   "execution_count": 46
  },
  {
   "cell_type": "code",
   "metadata": {
    "execution": {
     "iopub.execute_input": "2024-12-18T15:26:26.494792Z",
     "iopub.status.busy": "2024-12-18T15:26:26.493859Z",
     "iopub.status.idle": "2024-12-18T15:26:27.189413Z",
     "shell.execute_reply": "2024-12-18T15:26:27.188443Z",
     "shell.execute_reply.started": "2024-12-18T15:26:26.494754Z"
    },
    "trusted": true,
    "ExecuteTime": {
     "end_time": "2025-01-15T04:07:56.931295Z",
     "start_time": "2025-01-15T04:07:56.493515Z"
    }
   },
   "source": [
    "import matplotlib.pyplot as plt\n",
    "import seaborn as sns\n",
    "from sklearn.metrics import precision_score, recall_score, f1_score, confusion_matrix\n",
    "import torch\n",
    "from util import model_summary, save_model_summary_dict, show_model_summary_dict\n",
    "\n",
    "# Ustaw urządzenie\n",
    "\n",
    "def evaluate_model(model, val_loader, criterion):\n",
    "    model.eval()\n",
    "    all_preds = []\n",
    "    all_labels = []\n",
    "    total_loss = 0\n",
    "\n",
    "    with torch.no_grad():\n",
    "        for texts, labels in val_loader:\n",
    "            # Przenieś dane na to samo urządzenie co model\n",
    "            texts, labels = texts.to(device), labels.to(device)\n",
    "\n",
    "            # Forward pass\n",
    "            outputs = model(texts)\n",
    "            loss = criterion(outputs, labels)\n",
    "            total_loss += loss.item()\n",
    "\n",
    "            # Predictions\n",
    "            preds = torch.argmax(outputs, dim=1)\n",
    "            all_preds.extend(preds.cpu().numpy())\n",
    "            all_labels.extend(labels.cpu().numpy())\n",
    "\n",
    "    # Calculate metrics\n",
    "    summary = model_summary(all_labels, all_preds, list(LABELS.values()), \"LSTM\", is_y_indices=True)\n",
    "    save_model_summary_dict(summary)\n",
    "    show_model_summary_dict(summary)\n",
    "\n",
    "# Wywołanie funkcji ewaluacyjnej\n",
    "evaluate_model(model, val_loader, criterion)"
   ],
   "outputs": [
    {
     "name": "stdout",
     "output_type": "stream",
     "text": [
      "LSTM Accuracy: 0.70\n",
      "LSTM Precision: 0.70\n",
      "LSTM Recall: 0.70\n",
      "LSTM F1: 0.69\n"
     ]
    },
    {
     "data": {
      "text/plain": [
       "<Figure size 800x600 with 2 Axes>"
      ],
      "image/png": "[encoded data removed]"
     },
     "metadata": {},
     "output_type": "display_data"
    }
   ],
   "execution_count": 48
  },
  {
   "metadata": {
    "ExecuteTime": {
     "end_time": "2025-01-15T04:07:44.744386Z",
     "start_time": "2025-01-15T04:07:44.739386Z"
    }
   },
   "cell_type": "code",
   "source": "",
   "outputs": [
    {
     "name": "stdout",
     "output_type": "stream",
     "text": [
      "True\n"
     ]
    }
   ],
   "execution_count": 47
  }
 ],
 "metadata": {
  "kaggle": {
   "accelerator": "gpu",
   "dataSources": [
    {
     "datasetId": 6302968,
     "sourceId": 10200063,
     "sourceType": "datasetVersion"
    },
    {
     "datasetId": 6329343,
     "sourceId": 10235887,
     "sourceType": "datasetVersion"
    }
   ],
   "dockerImageVersionId": 30805,
   "isGpuEnabled": true,
   "isInternetEnabled": true,
   "language": "python",
   "sourceType": "notebook"
  },
  "kernelspec": {
   "display_name": "Python 3",
   "language": "python",
   "name": "python3"
  },
  "language_info": {
   "codemirror_mode": {
    "name": "ipython",
    "version": 3
   },
   "file_extension": ".py",
   "mimetype": "text/x-python",
   "name": "python",
   "nbconvert_exporter": "python",
   "pygments_lexer": "ipython3",
   "version": "3.10.14"
  }
 },
 "nbformat": 4,
 "nbformat_minor": 4
}
