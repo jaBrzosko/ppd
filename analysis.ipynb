{
 "cells": [
  {
   "cell_type": "code",
   "execution_count": 39,
   "metadata": {},
   "outputs": [],
   "source": [
    "import pandas as pd"
   ]
  },
  {
   "cell_type": "code",
   "execution_count": 40,
   "metadata": {},
   "outputs": [],
   "source": [
    "FILENAME_DEV = './data/dataset_conll/all.sentence.dev.txt'\n",
    "FILENAME_TRAIN = './data/dataset_conll/all.sentence.train.txt'\n",
    "FILENAME_TEST = './data/dataset_conll/all.sentence.test.txt'\n",
    "FILES = [FILENAME_DEV, FILENAME_TRAIN, FILENAME_TEST]\n"
   ]
  },
  {
   "cell_type": "code",
   "execution_count": 41,
   "metadata": {},
   "outputs": [],
   "source": [
    "dataframes = []\n",
    "for filename in FILES:\n",
    "    with open(filename, 'r') as f:\n",
    "        lines = f.readlines()\n",
    "        data = [line.strip() for line in lines]\n",
    "        # get last word from each item as a label and match with data\n",
    "        labeled_data = []\n",
    "        for item in data:\n",
    "            label = item.split()[-1]\n",
    "            sentence_data = ' '.join(item.split()[:-1])\n",
    "            labeled_data.append((sentence_data, label))\n",
    "\n",
    "        # create a dataframe\n",
    "        df = pd.DataFrame(labeled_data, columns=['sentence', 'label'])\n",
    "        dataframes.append(df)\n",
    "\n",
    "# merge all dataframes\n",
    "df = pd.concat(dataframes)"
   ]
  },
  {
   "cell_type": "code",
   "execution_count": 42,
   "metadata": {},
   "outputs": [
    {
     "data": {
      "text/html": [
       "<div>\n",
       "<style scoped>\n",
       "    .dataframe tbody tr th:only-of-type {\n",
       "        vertical-align: middle;\n",
       "    }\n",
       "\n",
       "    .dataframe tbody tr th {\n",
       "        vertical-align: top;\n",
       "    }\n",
       "\n",
       "    .dataframe thead th {\n",
       "        text-align: right;\n",
       "    }\n",
       "</style>\n",
       "<table border=\"1\" class=\"dataframe\">\n",
       "  <thead>\n",
       "    <tr style=\"text-align: right;\">\n",
       "      <th></th>\n",
       "      <th>sentence</th>\n",
       "      <th>label</th>\n",
       "    </tr>\n",
       "  </thead>\n",
       "  <tbody>\n",
       "    <tr>\n",
       "      <th>0</th>\n",
       "      <td>Moim zdaniem jest wart jakieś 1100zł .</td>\n",
       "      <td>__label__z_minus_m</td>\n",
       "    </tr>\n",
       "    <tr>\n",
       "      <th>1</th>\n",
       "      <td>co jest masakra szczególnie jak na początku ch...</td>\n",
       "      <td>__label__z_minus_m</td>\n",
       "    </tr>\n",
       "    <tr>\n",
       "      <th>2</th>\n",
       "      <td>Poza tym krzesło ma bardzo duże luzy .</td>\n",
       "      <td>__label__z_minus_m</td>\n",
       "    </tr>\n",
       "    <tr>\n",
       "      <th>3</th>\n",
       "      <td>Ścielenie łóżek , sprzątanie sal po organizowa...</td>\n",
       "      <td>__label__z_zero</td>\n",
       "    </tr>\n",
       "    <tr>\n",
       "      <th>4</th>\n",
       "      <td>Parę niższych osób siedziało i było im wygodnie .</td>\n",
       "      <td>__label__z_amb</td>\n",
       "    </tr>\n",
       "  </tbody>\n",
       "</table>\n",
       "</div>"
      ],
      "text/plain": [
       "                                            sentence               label\n",
       "0             Moim zdaniem jest wart jakieś 1100zł .  __label__z_minus_m\n",
       "1  co jest masakra szczególnie jak na początku ch...  __label__z_minus_m\n",
       "2             Poza tym krzesło ma bardzo duże luzy .  __label__z_minus_m\n",
       "3  Ścielenie łóżek , sprzątanie sal po organizowa...     __label__z_zero\n",
       "4  Parę niższych osób siedziało i było im wygodnie .      __label__z_amb"
      ]
     },
     "execution_count": 42,
     "metadata": {},
     "output_type": "execute_result"
    }
   ],
   "source": [
    "df.head()"
   ]
  },
  {
   "cell_type": "code",
   "execution_count": 43,
   "metadata": {},
   "outputs": [
    {
     "data": {
      "text/html": [
       "<div>\n",
       "<style scoped>\n",
       "    .dataframe tbody tr th:only-of-type {\n",
       "        vertical-align: middle;\n",
       "    }\n",
       "\n",
       "    .dataframe tbody tr th {\n",
       "        vertical-align: top;\n",
       "    }\n",
       "\n",
       "    .dataframe thead th {\n",
       "        text-align: right;\n",
       "    }\n",
       "</style>\n",
       "<table border=\"1\" class=\"dataframe\">\n",
       "  <thead>\n",
       "    <tr style=\"text-align: right;\">\n",
       "      <th></th>\n",
       "      <th>label</th>\n",
       "    </tr>\n",
       "  </thead>\n",
       "  <tbody>\n",
       "    <tr>\n",
       "      <th>__label__z_minus_m</th>\n",
       "      <td>21156</td>\n",
       "    </tr>\n",
       "    <tr>\n",
       "      <th>__label__z_plus_m</th>\n",
       "      <td>15324</td>\n",
       "    </tr>\n",
       "    <tr>\n",
       "      <th>__label__z_zero</th>\n",
       "      <td>14101</td>\n",
       "    </tr>\n",
       "    <tr>\n",
       "      <th>__label__z_amb</th>\n",
       "      <td>6885</td>\n",
       "    </tr>\n",
       "  </tbody>\n",
       "</table>\n",
       "</div>"
      ],
      "text/plain": [
       "                    label\n",
       "__label__z_minus_m  21156\n",
       "__label__z_plus_m   15324\n",
       "__label__z_zero     14101\n",
       "__label__z_amb       6885"
      ]
     },
     "execution_count": 43,
     "metadata": {},
     "output_type": "execute_result"
    }
   ],
   "source": [
    "labels = pd.DataFrame(df['label'].value_counts())\n",
    "labels.head()"
   ]
  },
  {
   "cell_type": "code",
   "execution_count": 44,
   "metadata": {},
   "outputs": [
    {
     "data": {
      "image/png": "[encoded data removed]",
      "text/plain": [
       "<Figure size 640x480 with 1 Axes>"
      ]
     },
     "metadata": {},
     "output_type": "display_data"
    }
   ],
   "source": [
    "# display labels distribution\n",
    "import matplotlib.pyplot as plt\n",
    "labels.plot(kind='bar')\n",
    "plt.show()\n"
   ]
  },
  {
   "cell_type": "code",
   "execution_count": 45,
   "metadata": {},
   "outputs": [
    {
     "data": {
      "text/html": [
       "<div>\n",
       "<style scoped>\n",
       "    .dataframe tbody tr th:only-of-type {\n",
       "        vertical-align: middle;\n",
       "    }\n",
       "\n",
       "    .dataframe tbody tr th {\n",
       "        vertical-align: top;\n",
       "    }\n",
       "\n",
       "    .dataframe thead th {\n",
       "        text-align: right;\n",
       "    }\n",
       "</style>\n",
       "<table border=\"1\" class=\"dataframe\">\n",
       "  <thead>\n",
       "    <tr style=\"text-align: right;\">\n",
       "      <th></th>\n",
       "      <th>sentence</th>\n",
       "      <th>label</th>\n",
       "    </tr>\n",
       "  </thead>\n",
       "  <tbody>\n",
       "  </tbody>\n",
       "</table>\n",
       "</div>"
      ],
      "text/plain": [
       "Empty DataFrame\n",
       "Columns: [sentence, label]\n",
       "Index: []"
      ]
     },
     "execution_count": 45,
     "metadata": {},
     "output_type": "execute_result"
    }
   ],
   "source": [
    "# find missing labels or sentences\n",
    "missing_labels = df[df['label'].isnull()]\n",
    "missing_labels.head()"
   ]
  },
  {
   "cell_type": "code",
   "execution_count": 46,
   "metadata": {},
   "outputs": [
    {
     "data": {
      "text/html": [
       "<div>\n",
       "<style scoped>\n",
       "    .dataframe tbody tr th:only-of-type {\n",
       "        vertical-align: middle;\n",
       "    }\n",
       "\n",
       "    .dataframe tbody tr th {\n",
       "        vertical-align: top;\n",
       "    }\n",
       "\n",
       "    .dataframe thead th {\n",
       "        text-align: right;\n",
       "    }\n",
       "</style>\n",
       "<table border=\"1\" class=\"dataframe\">\n",
       "  <thead>\n",
       "    <tr style=\"text-align: right;\">\n",
       "      <th></th>\n",
       "      <th>sentence</th>\n",
       "      <th>label</th>\n",
       "    </tr>\n",
       "  </thead>\n",
       "  <tbody>\n",
       "  </tbody>\n",
       "</table>\n",
       "</div>"
      ],
      "text/plain": [
       "Empty DataFrame\n",
       "Columns: [sentence, label]\n",
       "Index: []"
      ]
     },
     "execution_count": 46,
     "metadata": {},
     "output_type": "execute_result"
    }
   ],
   "source": [
    "missing_sentences = df[df['sentence'].isnull()]\n",
    "missing_sentences.head()\n"
   ]
  },
  {
   "cell_type": "code",
   "execution_count": 47,
   "metadata": {},
   "outputs": [],
   "source": [
    "# split data into train, test and validation\n",
    "from sklearn.model_selection import train_test_split\n",
    "\n",
    "train, test = train_test_split(df, test_size=0.2, random_state=42)\n",
    "train, validation = train_test_split(test, test_size=0.2, random_state=42)"
   ]
  },
  {
   "cell_type": "code",
   "execution_count": 60,
   "metadata": {},
   "outputs": [
    {
     "data": {
      "text/plain": [
       "__label__z_minus_m    0.369671\n",
       "__label__z_plus_m     0.268836\n",
       "__label__z_zero       0.247346\n",
       "__label__z_amb        0.114147\n",
       "Name: label, dtype: float64"
      ]
     },
     "execution_count": 60,
     "metadata": {},
     "output_type": "execute_result"
    }
   ],
   "source": [
    "# ensure that the distribution of labels is the same in all datasets\n",
    "tr_c = train['label'].value_counts()\n",
    "va_c = validation['label'].value_counts()\n",
    "te_c = test['label'].value_counts()\n",
    "\n",
    "# display ratio of labels in each dataset\n",
    "tr_ratio = tr_c / tr_c.sum()\n",
    "va_ratio = va_c / va_c.sum()\n",
    "te_ratio = te_c / te_c.sum()"
   ]
  },
  {
   "cell_type": "code",
   "execution_count": 63,
   "metadata": {},
   "outputs": [
    {
     "data": {
      "image/png": "[encoded data removed]",
      "text/plain": [
       "<Figure size 1000x600 with 1 Axes>"
      ]
     },
     "metadata": {},
     "output_type": "display_data"
    }
   ],
   "source": [
    "# Create a DataFrame to combine the ratios for comparison\n",
    "df_ratios = pd.DataFrame({'Test': te_ratio, 'Train': tr_ratio, 'Validation': va_ratio})\n",
    "\n",
    "# Plotting the bar chart to compare the ratios for different labels\n",
    "df_ratios.plot(kind='bar', figsize=(10, 6), colormap='Set2')\n",
    "plt.title('Label ratios')\n",
    "plt.ylabel('Ratio')\n",
    "plt.xlabel('Labels')\n",
    "plt.legend(title='Dataset')\n",
    "plt.show()"
   ]
  },
  {
   "cell_type": "code",
   "execution_count": 49,
   "metadata": {},
   "outputs": [],
   "source": [
    "import os\n",
    "\n",
    "# ensure directories exist\n",
    "if not os.path.exists('./output'):\n",
    "    os.makedirs('./output')\n",
    "\n",
    "train.to_csv('./output/train.csv', index=False)\n",
    "validation.to_csv('./output/validation.csv', index=False)\n",
    "test.to_csv('./output/test.csv', index=False)"
   ]
  }
 ],
 "metadata": {
  "kernelspec": {
   "display_name": "Python 3",
   "language": "python",
   "name": "python3"
  },
  "language_info": {
   "codemirror_mode": {
    "name": "ipython",
    "version": 3
   },
   "file_extension": ".py",
   "mimetype": "text/x-python",
   "name": "python",
   "nbconvert_exporter": "python",
   "pygments_lexer": "ipython3",
   "version": "3.10.12"
  }
 },
 "nbformat": 4,
 "nbformat_minor": 2
}
