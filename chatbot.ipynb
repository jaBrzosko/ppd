{
 "cells": [
  {
   "cell_type": "code",
   "metadata": {
    "ExecuteTime": {
     "end_time": "2025-01-15T02:58:20.070553Z",
     "start_time": "2025-01-15T02:58:20.067543Z"
    }
   },
   "source": [
    "import pandas as pd\n",
    "import string"
   ],
   "outputs": [],
   "execution_count": 14
  },
  {
   "cell_type": "code",
   "metadata": {
    "ExecuteTime": {
     "end_time": "2025-01-15T02:58:20.079668Z",
     "start_time": "2025-01-15T02:58:20.075070Z"
    }
   },
   "source": [
    "def replace_polish_lowercase(text):\n",
    "    polish_to_latin = {\n",
    "        'ą': 'a', 'ć': 'c', 'ę': 'e', 'ł': 'l', 'ń': 'n', \n",
    "        'ó': 'o', 'ś': 's', 'ź': 'z', 'ż': 'z'\n",
    "    }\n",
    "    return ''.join(polish_to_latin.get(char, char) for char in text)\n",
    "\n",
    "def preprocess_text(text):\n",
    "    # Lowercase\n",
    "    text = text.lower()\n",
    "    # Remove punctuation\n",
    "    text = text.translate(str.maketrans('', '', string.punctuation))\n",
    "    # Remove polish letters\n",
    "    text = replace_polish_lowercase(text)\n",
    "    # Tokenize (split by whitespace)\n",
    "    tokens = text.split()\n",
    "    return ' '.join(tokens)  # Join tokens back into a string for TF-IDF"
   ],
   "outputs": [],
   "execution_count": 15
  },
  {
   "cell_type": "code",
   "metadata": {
    "ExecuteTime": {
     "end_time": "2025-01-15T02:58:20.094744Z",
     "start_time": "2025-01-15T02:58:20.091636Z"
    }
   },
   "source": [
    "FILENAME_DEV = './data/dataset_conll/all.sentence.dev.txt'\n",
    "FILENAME_TRAIN = './data/dataset_conll/all.sentence.train.txt'\n",
    "FILENAME_TEST = './data/dataset_conll/all.sentence.test.txt'\n",
    "\n",
    "LABELS = {\n",
    "    \"__label__z_minus_m\": \"Negative sentiment\", \n",
    "    \"__label__z_plus_m\": \"Positive sentiment\",\n",
    "    \"__label__z_zero\": \"No sentiment\",\n",
    "    \"__label__z_amb\": \"Unsure\",\n",
    "    }\n"
   ],
   "outputs": [],
   "execution_count": 16
  },
  {
   "cell_type": "code",
   "metadata": {
    "ExecuteTime": {
     "end_time": "2025-01-15T02:58:20.110913Z",
     "start_time": "2025-01-15T02:58:20.107238Z"
    }
   },
   "source": [
    "def load_df(filename):\n",
    "    with open(filename, 'r', encoding=\"utf8\") as f:\n",
    "        lines = f.readlines()\n",
    "        data = [line.strip() for line in lines]\n",
    "        # get last word from each item as a label and match with data\n",
    "        labeled_data = []\n",
    "        for item in data:\n",
    "            label = item.split()[-1]\n",
    "            sentence_data = ' '.join(item.split()[:-1])\n",
    "            labeled_data.append((sentence_data, LABELS[label]))\n",
    "\n",
    "        # create a dataframe\n",
    "        df = pd.DataFrame(labeled_data, columns=['sentence', 'label'])\n",
    "        return df"
   ],
   "outputs": [],
   "execution_count": 17
  },
  {
   "cell_type": "markdown",
   "metadata": {},
   "source": [
    "# Read data"
   ]
  },
  {
   "cell_type": "code",
   "metadata": {
    "ExecuteTime": {
     "end_time": "2025-01-15T02:58:20.323385Z",
     "start_time": "2025-01-15T02:58:20.131677Z"
    }
   },
   "source": [
    "df_train = load_df(FILENAME_TRAIN)\n",
    "df_test = load_df(FILENAME_TEST)"
   ],
   "outputs": [],
   "execution_count": 18
  },
  {
   "cell_type": "markdown",
   "metadata": {},
   "source": [
    "Early preprocessing"
   ]
  },
  {
   "cell_type": "code",
   "metadata": {
    "ExecuteTime": {
     "end_time": "2025-01-15T02:58:21.256810Z",
     "start_time": "2025-01-15T02:58:20.345107Z"
    }
   },
   "source": [
    "df_train['processed_sentence'] = df_train['sentence'].apply(preprocess_text)\n",
    "df_test['processed_sentence'] = df_test['sentence'].apply(preprocess_text)"
   ],
   "outputs": [],
   "execution_count": 19
  },
  {
   "cell_type": "code",
   "metadata": {
    "ExecuteTime": {
     "end_time": "2025-01-15T02:58:21.269677Z",
     "start_time": "2025-01-15T02:58:21.262809Z"
    }
   },
   "source": [
    "df_train.sample(5)"
   ],
   "outputs": [
    {
     "data": {
      "text/plain": [
       "                                                sentence               label  \\\n",
       "36875            Nie wiem z czym można mieć tu problem .        No sentiment   \n",
       "42650  Pomijając bardzo mały wybór jedzenia , w dodat...  Negative sentiment   \n",
       "149    Od ponad roku używam koloru nr95 - Rose de Jas...  Positive sentiment   \n",
       "13673             Aha basen nie jest czynny caly dzien .  Negative sentiment   \n",
       "14258  Powiedział pan , że Dwór Kombornia wpisuje się...        No sentiment   \n",
       "\n",
       "                                      processed_sentence  \n",
       "36875              nie wiem z czym mozna miec tu problem  \n",
       "42650  pomijajac bardzo maly wybor jedzenia w dodatku...  \n",
       "149    od ponad roku uzywam koloru nr95 rose de jaspe...  \n",
       "13673               aha basen nie jest czynny caly dzien  \n",
       "14258  powiedzial pan ze dwor kombornia wpisuje sie w...  "
      ],
      "text/html": [
       "<div>\n",
       "<style scoped>\n",
       "    .dataframe tbody tr th:only-of-type {\n",
       "        vertical-align: middle;\n",
       "    }\n",
       "\n",
       "    .dataframe tbody tr th {\n",
       "        vertical-align: top;\n",
       "    }\n",
       "\n",
       "    .dataframe thead th {\n",
       "        text-align: right;\n",
       "    }\n",
       "</style>\n",
       "<table border=\"1\" class=\"dataframe\">\n",
       "  <thead>\n",
       "    <tr style=\"text-align: right;\">\n",
       "      <th></th>\n",
       "      <th>sentence</th>\n",
       "      <th>label</th>\n",
       "      <th>processed_sentence</th>\n",
       "    </tr>\n",
       "  </thead>\n",
       "  <tbody>\n",
       "    <tr>\n",
       "      <th>36875</th>\n",
       "      <td>Nie wiem z czym można mieć tu problem .</td>\n",
       "      <td>No sentiment</td>\n",
       "      <td>nie wiem z czym mozna miec tu problem</td>\n",
       "    </tr>\n",
       "    <tr>\n",
       "      <th>42650</th>\n",
       "      <td>Pomijając bardzo mały wybór jedzenia , w dodat...</td>\n",
       "      <td>Negative sentiment</td>\n",
       "      <td>pomijajac bardzo maly wybor jedzenia w dodatku...</td>\n",
       "    </tr>\n",
       "    <tr>\n",
       "      <th>149</th>\n",
       "      <td>Od ponad roku używam koloru nr95 - Rose de Jas...</td>\n",
       "      <td>Positive sentiment</td>\n",
       "      <td>od ponad roku uzywam koloru nr95 rose de jaspe...</td>\n",
       "    </tr>\n",
       "    <tr>\n",
       "      <th>13673</th>\n",
       "      <td>Aha basen nie jest czynny caly dzien .</td>\n",
       "      <td>Negative sentiment</td>\n",
       "      <td>aha basen nie jest czynny caly dzien</td>\n",
       "    </tr>\n",
       "    <tr>\n",
       "      <th>14258</th>\n",
       "      <td>Powiedział pan , że Dwór Kombornia wpisuje się...</td>\n",
       "      <td>No sentiment</td>\n",
       "      <td>powiedzial pan ze dwor kombornia wpisuje sie w...</td>\n",
       "    </tr>\n",
       "  </tbody>\n",
       "</table>\n",
       "</div>"
      ]
     },
     "execution_count": 20,
     "metadata": {},
     "output_type": "execute_result"
    }
   ],
   "execution_count": 20
  },
  {
   "metadata": {},
   "cell_type": "markdown",
   "source": "# Classification"
  },
  {
   "metadata": {
    "ExecuteTime": {
     "end_time": "2025-01-15T02:58:21.314721Z",
     "start_time": "2025-01-15T02:58:21.310899Z"
    }
   },
   "cell_type": "code",
   "source": [
    "%load_ext dotenv\n",
    "%dotenv"
   ],
   "outputs": [
    {
     "name": "stdout",
     "output_type": "stream",
     "text": [
      "The dotenv extension is already loaded. To reload it, use:\n",
      "  %reload_ext dotenv\n"
     ]
    }
   ],
   "execution_count": 21
  },
  {
   "cell_type": "code",
   "metadata": {
    "ExecuteTime": {
     "end_time": "2025-01-15T02:58:21.359723Z",
     "start_time": "2025-01-15T02:58:21.355724Z"
    }
   },
   "source": [
    "import google.generativeai as genai\n",
    "import os\n",
    "import enum\n",
    "from typing_extensions import TypedDict\n",
    "\n",
    "class Choice(enum.Enum):\n",
    "    Negative = \"Negative sentiment\"\n",
    "    Positive = \"Positive sentiment\"\n",
    "    NoSentiment = \"No sentiment\"\n",
    "    Unsure = \"Unsure\"\n",
    "class Sentiment(TypedDict):\n",
    "    sentence_id: int\n",
    "    sentiment: Choice\n",
    "    \n",
    "genai.configure(api_key=os.getenv(\"GEMINI_API_KEY\"))\n",
    "model = genai.GenerativeModel(\"gemini-1.5-flash\")\n",
    "generation_config={\"response_mime_type\": \"application/json\",\n",
    "                   \"response_schema\": list[Sentiment]}\n"
   ],
   "outputs": [],
   "execution_count": 22
  },
  {
   "cell_type": "code",
   "metadata": {
    "ExecuteTime": {
     "end_time": "2025-01-15T02:58:21.392358Z",
     "start_time": "2025-01-15T02:58:21.387722Z"
    }
   },
   "source": [
    "output_dir = \"output/output_chunks\"\n",
    "if not os.path.exists(output_dir):\n",
    "    os.makedirs(output_dir, exist_ok=True)\n",
    "\n",
    "    chunks = [df_test.iloc[i:i + 400] for i in range(0, len(df_test), 400)]\n",
    "\n",
    "    for i, chunk in enumerate(chunks):\n",
    "        output_file = os.path.join(output_dir, f\"chunk_{i + 1}.txt\")\n",
    "\n",
    "        query = '\\n'.join(f\"{index}: {row['processed_sentence']}\" for index, row in chunk.iterrows())\n",
    "        response = model.generate_content(\n",
    "            [\"Classify the sentiment for each sentence:\", query],\n",
    "            generation_config=generation_config\n",
    "        )\n",
    "\n",
    "        with open(output_file, \"w\", encoding=\"utf-8\") as f:\n",
    "            f.write(response.text)"
   ],
   "outputs": [],
   "execution_count": 23
  },
  {
   "cell_type": "code",
   "metadata": {
    "ExecuteTime": {
     "end_time": "2025-01-15T02:58:21.453768Z",
     "start_time": "2025-01-15T02:58:21.417766Z"
    }
   },
   "source": [
    "import json\n",
    "\n",
    "combined_data = []\n",
    "\n",
    "for filename in os.listdir(output_dir):\n",
    "    if filename.endswith('.txt'):\n",
    "        filepath = os.path.join(output_dir, filename)\n",
    "        with open(filepath, 'r', encoding='utf-8') as file:\n",
    "            data = json.load(file)\n",
    "            combined_data.extend(data)\n",
    "\n",
    "output_filepath = os.path.join(output_dir, 'combined_data.json')\n",
    "with open(output_filepath, 'w', encoding='utf-8') as output_file:\n",
    "    json.dump(combined_data, output_file, indent=4)"
   ],
   "outputs": [],
   "execution_count": 24
  },
  {
   "cell_type": "code",
   "metadata": {
    "ExecuteTime": {
     "end_time": "2025-01-15T02:58:21.466837Z",
     "start_time": "2025-01-15T02:58:21.458767Z"
    }
   },
   "source": [
    "df = pd.DataFrame(combined_data)\n",
    "df.head()"
   ],
   "outputs": [
    {
     "data": {
      "text/plain": [
       "   sentence_id           sentiment\n",
       "0            0  Negative sentiment\n",
       "1            1  Negative sentiment\n",
       "2            2        No sentiment\n",
       "3            3  Negative sentiment\n",
       "4            4  Positive sentiment"
      ],
      "text/html": [
       "<div>\n",
       "<style scoped>\n",
       "    .dataframe tbody tr th:only-of-type {\n",
       "        vertical-align: middle;\n",
       "    }\n",
       "\n",
       "    .dataframe tbody tr th {\n",
       "        vertical-align: top;\n",
       "    }\n",
       "\n",
       "    .dataframe thead th {\n",
       "        text-align: right;\n",
       "    }\n",
       "</style>\n",
       "<table border=\"1\" class=\"dataframe\">\n",
       "  <thead>\n",
       "    <tr style=\"text-align: right;\">\n",
       "      <th></th>\n",
       "      <th>sentence_id</th>\n",
       "      <th>sentiment</th>\n",
       "    </tr>\n",
       "  </thead>\n",
       "  <tbody>\n",
       "    <tr>\n",
       "      <th>0</th>\n",
       "      <td>0</td>\n",
       "      <td>Negative sentiment</td>\n",
       "    </tr>\n",
       "    <tr>\n",
       "      <th>1</th>\n",
       "      <td>1</td>\n",
       "      <td>Negative sentiment</td>\n",
       "    </tr>\n",
       "    <tr>\n",
       "      <th>2</th>\n",
       "      <td>2</td>\n",
       "      <td>No sentiment</td>\n",
       "    </tr>\n",
       "    <tr>\n",
       "      <th>3</th>\n",
       "      <td>3</td>\n",
       "      <td>Negative sentiment</td>\n",
       "    </tr>\n",
       "    <tr>\n",
       "      <th>4</th>\n",
       "      <td>4</td>\n",
       "      <td>Positive sentiment</td>\n",
       "    </tr>\n",
       "  </tbody>\n",
       "</table>\n",
       "</div>"
      ]
     },
     "execution_count": 25,
     "metadata": {},
     "output_type": "execute_result"
    }
   ],
   "execution_count": 25
  },
  {
   "cell_type": "code",
   "metadata": {
    "ExecuteTime": {
     "end_time": "2025-01-15T02:58:21.752743Z",
     "start_time": "2025-01-15T02:58:21.507546Z"
    }
   },
   "source": [
    "from util import model_summary, save_model_summary_dict, show_model_summary_dict\n",
    "\n",
    "df_test['sentence_id'] = df_test.index\n",
    "df_merged = pd.merge(df_test, df, on='sentence_id')\n",
    "df_merged['match'] = df_merged['label'] == df_merged['sentiment']\n",
    "\n",
    "summary = model_summary(df_merged['label'], df_merged['sentiment'], list(LABELS.values()), \"LLM\")\n",
    "save_model_summary_dict(summary)\n",
    "show_model_summary_dict(summary)\n"
   ],
   "outputs": [
    {
     "name": "stdout",
     "output_type": "stream",
     "text": [
      "LLM Accuracy: 0.75\n",
      "LLM Precision: 0.75\n",
      "LLM Recall: 0.75\n",
      "LLM F1: 0.71\n"
     ]
    },
    {
     "data": {
      "text/plain": [
       "<Figure size 800x600 with 2 Axes>"
      ],
      "image/png": "[encoded data removed]"
     },
     "metadata": {},
     "output_type": "display_data"
    }
   ],
   "execution_count": 26
  }
 ],
 "metadata": {
  "kernelspec": {
   "display_name": "Python 3",
   "language": "python",
   "name": "python3"
  },
  "language_info": {
   "codemirror_mode": {
    "name": "ipython",
    "version": 3
   },
   "file_extension": ".py",
   "mimetype": "text/x-python",
   "name": "python",
   "nbconvert_exporter": "python",
   "pygments_lexer": "ipython3",
   "version": "3.12.4"
  }
 },
 "nbformat": 4,
 "nbformat_minor": 2
}
