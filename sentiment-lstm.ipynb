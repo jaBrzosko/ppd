{
 "cells": [
  {
   "cell_type": "code",
   "execution_count": 20,
   "metadata": {
    "execution": {
     "iopub.execute_input": "2024-12-18T15:22:21.874943Z",
     "iopub.status.busy": "2024-12-18T15:22:21.874461Z",
     "iopub.status.idle": "2024-12-18T15:22:21.881479Z",
     "shell.execute_reply": "2024-12-18T15:22:21.880261Z",
     "shell.execute_reply.started": "2024-12-18T15:22:21.874897Z"
    },
    "trusted": true
   },
   "outputs": [],
   "source": [
    "import pandas as pd\n",
    "from sklearn.feature_extraction.text import TfidfVectorizer\n",
    "from sklearn.preprocessing import OneHotEncoder\n",
    "from sklearn.metrics import accuracy_score, precision_score, recall_score, f1_score, confusion_matrix\n",
    "import string"
   ]
  },
  {
   "cell_type": "code",
   "execution_count": 21,
   "metadata": {
    "execution": {
     "iopub.execute_input": "2024-12-18T15:22:21.883857Z",
     "iopub.status.busy": "2024-12-18T15:22:21.883439Z",
     "iopub.status.idle": "2024-12-18T15:22:21.897337Z",
     "shell.execute_reply": "2024-12-18T15:22:21.896199Z",
     "shell.execute_reply.started": "2024-12-18T15:22:21.883808Z"
    },
    "trusted": true
   },
   "outputs": [],
   "source": [
    "def replace_polish_lowercase(text):\n",
    "    polish_to_latin = {\n",
    "        'ą': 'a', 'ć': 'c', 'ę': 'e', 'ł': 'l', 'ń': 'n', \n",
    "        'ó': 'o', 'ś': 's', 'ź': 'z', 'ż': 'z'\n",
    "    }\n",
    "    return ''.join(polish_to_latin.get(char, char) for char in text)\n",
    "\n",
    "def preprocess_text(text):\n",
    "    # Lowercase\n",
    "    text = text.lower()\n",
    "    # Remove punctuation\n",
    "    text = text.translate(str.maketrans('', '', string.punctuation))\n",
    "    # Remove polish letters\n",
    "    text = replace_polish_lowercase(text)\n",
    "    # Tokenize (split by whitespace)\n",
    "    tokens = text.split()\n",
    "    return ' '.join(tokens)  # Join tokens back into a string for TF-IDF"
   ]
  },
  {
   "cell_type": "code",
   "execution_count": 22,
   "metadata": {
    "execution": {
     "iopub.execute_input": "2024-12-18T15:22:21.899230Z",
     "iopub.status.busy": "2024-12-18T15:22:21.898661Z",
     "iopub.status.idle": "2024-12-18T15:22:21.914023Z",
     "shell.execute_reply": "2024-12-18T15:22:21.912891Z",
     "shell.execute_reply.started": "2024-12-18T15:22:21.899181Z"
    },
    "trusted": true
   },
   "outputs": [],
   "source": [
    "FILENAME_DEV = '/kaggle/input/dataset-conll/all.sentence.dev.txt'\n",
    "FILENAME_TRAIN = '/kaggle/input/dataset-conll/all.sentence.train.txt'\n",
    "FILENAME_TEST = '/kaggle/input/dataset-conll/all.sentence.test.txt'\n",
    "\n",
    "LABELS = {\n",
    "    \"__label__z_minus_m\": \"Negative sentiment\", \n",
    "    \"__label__z_plus_m\": \"Positive sentiment\",\n",
    "    \"__label__z_zero\": \"No sentiment\",\n",
    "    \"__label__z_amb\": \"Unsure\",\n",
    "    }\n",
    "\n",
    "labels_map = {\n",
    "        'Negative sentiment': 0,\n",
    "        'No sentiment': 1,\n",
    "        'Unsure': 2,\n",
    "        'Positive sentiment': 3\n",
    "    }"
   ]
  },
  {
   "cell_type": "code",
   "execution_count": 23,
   "metadata": {
    "execution": {
     "iopub.execute_input": "2024-12-18T15:22:21.916604Z",
     "iopub.status.busy": "2024-12-18T15:22:21.916242Z",
     "iopub.status.idle": "2024-12-18T15:22:21.929248Z",
     "shell.execute_reply": "2024-12-18T15:22:21.928189Z",
     "shell.execute_reply.started": "2024-12-18T15:22:21.916573Z"
    },
    "trusted": true
   },
   "outputs": [],
   "source": [
    "def load_df(filename):\n",
    "    with open(filename, 'r', encoding=\"utf8\") as f:\n",
    "        lines = f.readlines()\n",
    "        data = [line.strip() for line in lines]\n",
    "        # get last word from each item as a label and match with data\n",
    "        labeled_data = []\n",
    "        for item in data:\n",
    "            label = item.split()[-1]\n",
    "            sentence_data = ' '.join(item.split()[:-1])\n",
    "            labeled_data.append((sentence_data, LABELS[label]))\n",
    "\n",
    "        # create a dataframe\n",
    "        df = pd.DataFrame(labeled_data, columns=['text', 'labels'])\n",
    "        return df"
   ]
  },
  {
   "cell_type": "markdown",
   "metadata": {},
   "source": [
    "# Read data"
   ]
  },
  {
   "cell_type": "code",
   "execution_count": 24,
   "metadata": {
    "execution": {
     "iopub.execute_input": "2024-12-18T15:22:21.931491Z",
     "iopub.status.busy": "2024-12-18T15:22:21.930660Z",
     "iopub.status.idle": "2024-12-18T15:22:22.378513Z",
     "shell.execute_reply": "2024-12-18T15:22:22.377463Z",
     "shell.execute_reply.started": "2024-12-18T15:22:21.931426Z"
    },
    "trusted": true
   },
   "outputs": [],
   "source": [
    "df_train = load_df(FILENAME_TRAIN)\n",
    "df_test = load_df(FILENAME_TEST)"
   ]
  },
  {
   "cell_type": "code",
   "execution_count": 25,
   "metadata": {
    "execution": {
     "iopub.execute_input": "2024-12-18T15:22:22.380310Z",
     "iopub.status.busy": "2024-12-18T15:22:22.379855Z",
     "iopub.status.idle": "2024-12-18T15:22:23.788274Z",
     "shell.execute_reply": "2024-12-18T15:22:23.787174Z",
     "shell.execute_reply.started": "2024-12-18T15:22:22.380266Z"
    },
    "trusted": true
   },
   "outputs": [],
   "source": [
    "df_train['text'] = df_train['text'].apply(preprocess_text)\n",
    "df_test['text'] = df_test['text'].apply(preprocess_text)"
   ]
  },
  {
   "cell_type": "code",
   "execution_count": 26,
   "metadata": {
    "execution": {
     "iopub.execute_input": "2024-12-18T15:22:23.789892Z",
     "iopub.status.busy": "2024-12-18T15:22:23.789565Z",
     "iopub.status.idle": "2024-12-18T15:22:23.809999Z",
     "shell.execute_reply": "2024-12-18T15:22:23.808897Z",
     "shell.execute_reply.started": "2024-12-18T15:22:23.789862Z"
    },
    "trusted": true
   },
   "outputs": [
    {
     "data": {
      "text/html": [
       "<div>\n",
       "<style scoped>\n",
       "    .dataframe tbody tr th:only-of-type {\n",
       "        vertical-align: middle;\n",
       "    }\n",
       "\n",
       "    .dataframe tbody tr th {\n",
       "        vertical-align: top;\n",
       "    }\n",
       "\n",
       "    .dataframe thead th {\n",
       "        text-align: right;\n",
       "    }\n",
       "</style>\n",
       "<table border=\"1\" class=\"dataframe\">\n",
       "  <thead>\n",
       "    <tr style=\"text-align: right;\">\n",
       "      <th></th>\n",
       "      <th>text</th>\n",
       "      <th>labels</th>\n",
       "    </tr>\n",
       "  </thead>\n",
       "  <tbody>\n",
       "    <tr>\n",
       "      <th>23321</th>\n",
       "      <td>komentarz wystawiam neutralny bo sama nie wiem...</td>\n",
       "      <td>Unsure</td>\n",
       "    </tr>\n",
       "    <tr>\n",
       "      <th>31045</th>\n",
       "      <td>poszedl em do innej kliniki w ktorej pani orto...</td>\n",
       "      <td>Negative sentiment</td>\n",
       "    </tr>\n",
       "    <tr>\n",
       "      <th>7156</th>\n",
       "      <td>pelnil funkcje kanclerza wyzszej szkoly organi...</td>\n",
       "      <td>No sentiment</td>\n",
       "    </tr>\n",
       "    <tr>\n",
       "      <th>4054</th>\n",
       "      <td>polecam spotkania z pania izabela kazdemu kto ...</td>\n",
       "      <td>Positive sentiment</td>\n",
       "    </tr>\n",
       "    <tr>\n",
       "      <th>3183</th>\n",
       "      <td>szczerze polecam pana doktora piatkowskiego</td>\n",
       "      <td>Positive sentiment</td>\n",
       "    </tr>\n",
       "  </tbody>\n",
       "</table>\n",
       "</div>"
      ],
      "text/plain": [
       "                                                    text              labels\n",
       "23321  komentarz wystawiam neutralny bo sama nie wiem...              Unsure\n",
       "31045  poszedl em do innej kliniki w ktorej pani orto...  Negative sentiment\n",
       "7156   pelnil funkcje kanclerza wyzszej szkoly organi...        No sentiment\n",
       "4054   polecam spotkania z pania izabela kazdemu kto ...  Positive sentiment\n",
       "3183         szczerze polecam pana doktora piatkowskiego  Positive sentiment"
      ]
     },
     "execution_count": 26,
     "metadata": {},
     "output_type": "execute_result"
    }
   ],
   "source": [
    "df_train.sample(5)"
   ]
  },
  {
   "cell_type": "markdown",
   "metadata": {},
   "source": [
    "# LSTM"
   ]
  },
  {
   "cell_type": "code",
   "execution_count": 27,
   "metadata": {
    "execution": {
     "iopub.execute_input": "2024-12-18T15:22:23.812296Z",
     "iopub.status.busy": "2024-12-18T15:22:23.811778Z",
     "iopub.status.idle": "2024-12-18T15:22:27.216071Z",
     "shell.execute_reply": "2024-12-18T15:22:27.215024Z",
     "shell.execute_reply.started": "2024-12-18T15:22:23.812245Z"
    },
    "trusted": true
   },
   "outputs": [],
   "source": [
    "import torch\n",
    "import torch.nn as nn\n",
    "import torch.optim as optim\n",
    "from torch.utils.data import Dataset, DataLoader\n",
    "from collections import Counter\n",
    "import numpy as np\n",
    "import torch.nn.functional as F"
   ]
  },
  {
   "cell_type": "code",
   "execution_count": 28,
   "metadata": {
    "execution": {
     "iopub.execute_input": "2024-12-18T15:22:27.219665Z",
     "iopub.status.busy": "2024-12-18T15:22:27.219215Z",
     "iopub.status.idle": "2024-12-18T15:22:27.227261Z",
     "shell.execute_reply": "2024-12-18T15:22:27.226182Z",
     "shell.execute_reply.started": "2024-12-18T15:22:27.219635Z"
    },
    "trusted": true
   },
   "outputs": [],
   "source": [
    "class TextDataset(Dataset):\n",
    "    def __init__(self, texts, labels, vocab, max_length=100):\n",
    "        self.texts = texts\n",
    "        self.labels = labels\n",
    "        self.vocab = vocab\n",
    "        self.max_length = max_length\n",
    "        \n",
    "    def __len__(self):\n",
    "        return len(self.texts)\n",
    "    \n",
    "    def __getitem__(self, idx):\n",
    "        text = self.texts[idx]\n",
    "        label = labels_map[self.labels[idx]]\n",
    "        \n",
    "        # Convert text to indices\n",
    "        indices = [self.vocab.get(word, self.vocab['<UNK>']) for word in text.split()]\n",
    "        \n",
    "        # Pad or truncate to max_length\n",
    "        if len(indices) < self.max_length:\n",
    "            indices = indices + [self.vocab['<PAD>']] * (self.max_length - len(indices))\n",
    "        else:\n",
    "            indices = indices[:self.max_length]\n",
    "            \n",
    "        return (torch.tensor(indices, dtype=torch.long), \n",
    "                torch.tensor(label, dtype=torch.long))"
   ]
  },
  {
   "cell_type": "code",
   "execution_count": 29,
   "metadata": {
    "execution": {
     "iopub.execute_input": "2024-12-18T15:22:27.228627Z",
     "iopub.status.busy": "2024-12-18T15:22:27.228340Z",
     "iopub.status.idle": "2024-12-18T15:22:27.246402Z",
     "shell.execute_reply": "2024-12-18T15:22:27.245307Z",
     "shell.execute_reply.started": "2024-12-18T15:22:27.228600Z"
    },
    "trusted": true
   },
   "outputs": [],
   "source": [
    "def build_vocab(texts, min_freq=2):\n",
    "    # Count word frequencies\n",
    "    word_counts = Counter()\n",
    "    for text in texts:\n",
    "        word_counts.update(text.split())\n",
    "    \n",
    "    # Create vocabulary\n",
    "    vocab = {'<PAD>': 0, '<UNK>': 1}\n",
    "    idx = 2\n",
    "    for word, count in word_counts.items():\n",
    "        if count >= min_freq:\n",
    "            vocab[word] = idx\n",
    "            idx += 1\n",
    "    \n",
    "    return vocab"
   ]
  },
  {
   "cell_type": "code",
   "execution_count": 30,
   "metadata": {
    "execution": {
     "iopub.execute_input": "2024-12-18T15:22:27.248579Z",
     "iopub.status.busy": "2024-12-18T15:22:27.247696Z",
     "iopub.status.idle": "2024-12-18T15:22:27.261549Z",
     "shell.execute_reply": "2024-12-18T15:22:27.260641Z",
     "shell.execute_reply.started": "2024-12-18T15:22:27.248534Z"
    },
    "trusted": true
   },
   "outputs": [],
   "source": [
    "def train_model(model, train_loader, val_loader, criterion, optimizer, n_epochs):\n",
    "    device = torch.device('cuda' if torch.cuda.is_available() else 'cpu')\n",
    "    model = model.to(device)\n",
    "    \n",
    "    for epoch in range(n_epochs):\n",
    "        model.train()\n",
    "        train_loss = 0\n",
    "        train_correct = 0\n",
    "        train_total = 0\n",
    "        \n",
    "        for texts, labels in train_loader:\n",
    "            texts = texts.to(device)\n",
    "            labels = labels.to(device)\n",
    "            \n",
    "            optimizer.zero_grad()\n",
    "            logits = model(texts)\n",
    "            loss = criterion(logits, labels)\n",
    "            \n",
    "            loss.backward()\n",
    "            optimizer.step()\n",
    "            \n",
    "            train_loss += loss.item()\n",
    "            _, predicted = torch.max(logits, 1)\n",
    "            train_correct += (predicted == labels).sum().item()\n",
    "            train_total += labels.size(0)\n",
    "        \n",
    "        model.eval()\n",
    "        val_loss = 0\n",
    "        val_correct = 0\n",
    "        val_total = 0\n",
    "        \n",
    "        with torch.no_grad():\n",
    "            for texts, labels in val_loader:\n",
    "                texts = texts.to(device)\n",
    "                labels = labels.to(device)\n",
    "                \n",
    "                logits = model(texts)\n",
    "                loss = criterion(logits, labels)\n",
    "                \n",
    "                val_loss += loss.item()\n",
    "                _, predicted = torch.max(logits, 1)\n",
    "                val_correct += (predicted == labels).sum().item()\n",
    "                val_total += labels.size(0)\n",
    "\n",
    "        \n",
    "        print(f'Epoch {epoch+1}/{n_epochs}:')\n",
    "        print(f'Training Loss: {train_loss/len(train_loader):.4f}, Accuracy: {100*train_correct/train_total:.2f}%')\n",
    "        print(f'Validation Loss: {val_loss/len(val_loader):.4f}, Accuracy: {100*val_correct/val_total:.2f}%')"
   ]
  },
  {
   "cell_type": "code",
   "execution_count": 31,
   "metadata": {
    "execution": {
     "iopub.execute_input": "2024-12-18T15:22:27.263638Z",
     "iopub.status.busy": "2024-12-18T15:22:27.262869Z",
     "iopub.status.idle": "2024-12-18T15:22:27.280428Z",
     "shell.execute_reply": "2024-12-18T15:22:27.279407Z",
     "shell.execute_reply.started": "2024-12-18T15:22:27.263603Z"
    },
    "trusted": true
   },
   "outputs": [],
   "source": [
    "class SentimentLSTM(nn.Module):\n",
    "    def __init__(self, vocab_size, embedding_dim, hidden_dim, n_layers, num_classes, dropout_rate=0.5):\n",
    "        super().__init__()\n",
    "        self.embedding = nn.Embedding(vocab_size, embedding_dim)\n",
    "        self.embed_dropout = nn.Dropout(dropout_rate)\n",
    "        \n",
    "        self.lstm = nn.LSTM(\n",
    "            embedding_dim, \n",
    "            hidden_dim, \n",
    "            n_layers, \n",
    "            batch_first=True,\n",
    "            bidirectional=True,\n",
    "            dropout=dropout_rate if n_layers > 1 else 0\n",
    "        )\n",
    "        \n",
    "        self.batch_norm = nn.BatchNorm1d(hidden_dim * 2)  # *2 for bidirectional\n",
    "        self.dropout = nn.Dropout(dropout_rate)\n",
    "        self.fc = nn.Linear(hidden_dim * 2, num_classes)\n",
    "        \n",
    "    def forward(self, text):\n",
    "        text = text.long()\n",
    "        \n",
    "        embedded = self.embedding(text)\n",
    "        embedded = self.embed_dropout(embedded)\n",
    "        \n",
    "        lstm_out, _ = self.lstm(embedded)\n",
    "        lstm_out = lstm_out[:, -1, :]\n",
    "        lstm_out = self.batch_norm(lstm_out)\n",
    "        lstm_out = self.dropout(lstm_out)\n",
    "        \n",
    "        return self.fc(lstm_out)"
   ]
  },
  {
   "cell_type": "code",
   "execution_count": 32,
   "metadata": {
    "execution": {
     "iopub.execute_input": "2024-12-18T15:22:27.281983Z",
     "iopub.status.busy": "2024-12-18T15:22:27.281631Z",
     "iopub.status.idle": "2024-12-18T15:22:28.541241Z",
     "shell.execute_reply": "2024-12-18T15:22:28.540175Z",
     "shell.execute_reply.started": "2024-12-18T15:22:27.281941Z"
    },
    "trusted": true
   },
   "outputs": [],
   "source": [
    "vocab = build_vocab(df_train[\"text\"].to_numpy())\n",
    "\n",
    "train_dataset = TextDataset(df_train[\"text\"].to_numpy(), df_train[\"labels\"].to_numpy(), vocab)\n",
    "val_dataset = TextDataset(df_test[\"text\"].to_numpy(), df_test[\"labels\"].to_numpy(), vocab)\n",
    "\n",
    "batch_size = 256\n",
    "train_loader = DataLoader(train_dataset, batch_size=batch_size, shuffle=True)\n",
    "val_loader = DataLoader(val_dataset, batch_size=batch_size)\n",
    "\n",
    "model = SentimentLSTM(\n",
    "        vocab_size=len(vocab),\n",
    "        embedding_dim=100,\n",
    "        hidden_dim=64,\n",
    "        n_layers=2,\n",
    "        num_classes=4,\n",
    "        dropout_rate=0.4\n",
    "    )\n",
    "# best params:\n",
    "# model = SentimentLSTM(\n",
    "#         vocab_size=len(vocab),\n",
    "#         embedding_dim=100,\n",
    "#         hidden_dim=64,\n",
    "#         n_layers=2,\n",
    "#         num_classes=4,\n",
    "#         dropout_rate=0.4\n",
    "#     )\n",
    "# epochs = 30\n",
    "\n",
    "criterion = nn.CrossEntropyLoss()\n",
    "optimizer = optim.AdamW(model.parameters())"
   ]
  },
  {
   "cell_type": "code",
   "execution_count": 33,
   "metadata": {
    "execution": {
     "iopub.execute_input": "2024-12-18T15:22:28.543076Z",
     "iopub.status.busy": "2024-12-18T15:22:28.542620Z",
     "iopub.status.idle": "2024-12-18T15:24:27.924957Z",
     "shell.execute_reply": "2024-12-18T15:24:27.923956Z",
     "shell.execute_reply.started": "2024-12-18T15:22:28.543045Z"
    },
    "trusted": true
   },
   "outputs": [
    {
     "name": "stdout",
     "output_type": "stream",
     "text": [
      "Epoch 1/30:\n",
      "Training Loss: 1.3970, Accuracy: 29.95%\n",
      "Validation Loss: 1.3217, Accuracy: 36.95%\n",
      "Epoch 2/30:\n",
      "Training Loss: 1.3364, Accuracy: 34.69%\n",
      "Validation Loss: 1.3194, Accuracy: 36.95%\n",
      "Epoch 3/30:\n",
      "Training Loss: 1.3288, Accuracy: 36.00%\n",
      "Validation Loss: 1.3186, Accuracy: 36.95%\n",
      "Epoch 4/30:\n",
      "Training Loss: 1.3272, Accuracy: 36.48%\n",
      "Validation Loss: 1.3183, Accuracy: 36.95%\n",
      "Epoch 5/30:\n",
      "Training Loss: 1.3254, Accuracy: 36.54%\n",
      "Validation Loss: 1.3186, Accuracy: 36.95%\n",
      "Epoch 6/30:\n",
      "Training Loss: 1.3250, Accuracy: 36.47%\n",
      "Validation Loss: 1.3183, Accuracy: 36.95%\n",
      "Epoch 7/30:\n",
      "Training Loss: 1.3242, Accuracy: 36.62%\n",
      "Validation Loss: 1.3192, Accuracy: 36.95%\n",
      "Epoch 8/30:\n",
      "Training Loss: 1.3235, Accuracy: 36.65%\n",
      "Validation Loss: 1.3182, Accuracy: 36.95%\n",
      "Epoch 9/30:\n",
      "Training Loss: 1.3239, Accuracy: 36.69%\n",
      "Validation Loss: 1.3183, Accuracy: 36.95%\n",
      "Epoch 10/30:\n",
      "Training Loss: 1.3229, Accuracy: 36.65%\n",
      "Validation Loss: 1.3185, Accuracy: 36.95%\n",
      "Epoch 11/30:\n",
      "Training Loss: 1.3230, Accuracy: 36.71%\n",
      "Validation Loss: 1.3180, Accuracy: 36.95%\n",
      "Epoch 12/30:\n",
      "Training Loss: 1.3223, Accuracy: 36.71%\n",
      "Validation Loss: 1.3193, Accuracy: 36.95%\n",
      "Epoch 13/30:\n",
      "Training Loss: 1.3217, Accuracy: 36.65%\n",
      "Validation Loss: 1.2983, Accuracy: 36.95%\n",
      "Epoch 14/30:\n",
      "Training Loss: 1.2424, Accuracy: 43.40%\n",
      "Validation Loss: 1.2226, Accuracy: 46.34%\n",
      "Epoch 15/30:\n",
      "Training Loss: 1.1530, Accuracy: 49.42%\n",
      "Validation Loss: 1.1276, Accuracy: 53.00%\n",
      "Epoch 16/30:\n",
      "Training Loss: 1.0929, Accuracy: 53.66%\n",
      "Validation Loss: 1.1069, Accuracy: 54.78%\n",
      "Epoch 17/30:\n",
      "Training Loss: 1.0458, Accuracy: 56.84%\n",
      "Validation Loss: 1.0702, Accuracy: 56.36%\n",
      "Epoch 18/30:\n",
      "Training Loss: 1.0037, Accuracy: 59.58%\n",
      "Validation Loss: 1.0333, Accuracy: 59.09%\n",
      "Epoch 19/30:\n",
      "Training Loss: 0.9704, Accuracy: 61.33%\n",
      "Validation Loss: 1.0380, Accuracy: 59.86%\n",
      "Epoch 20/30:\n",
      "Training Loss: 0.9427, Accuracy: 63.21%\n",
      "Validation Loss: 1.0158, Accuracy: 60.85%\n",
      "Epoch 21/30:\n",
      "Training Loss: 0.9001, Accuracy: 64.84%\n",
      "Validation Loss: 0.9202, Accuracy: 64.79%\n",
      "Epoch 22/30:\n",
      "Training Loss: 0.8175, Accuracy: 68.45%\n",
      "Validation Loss: 0.8716, Accuracy: 66.86%\n",
      "Epoch 23/30:\n",
      "Training Loss: 0.7707, Accuracy: 70.66%\n",
      "Validation Loss: 0.8519, Accuracy: 67.80%\n",
      "Epoch 24/30:\n",
      "Training Loss: 0.7391, Accuracy: 71.74%\n",
      "Validation Loss: 0.8555, Accuracy: 68.46%\n",
      "Epoch 25/30:\n",
      "Training Loss: 0.7133, Accuracy: 73.00%\n",
      "Validation Loss: 0.8554, Accuracy: 68.77%\n",
      "Epoch 26/30:\n",
      "Training Loss: 0.6914, Accuracy: 74.13%\n",
      "Validation Loss: 0.8565, Accuracy: 69.14%\n",
      "Epoch 27/30:\n",
      "Training Loss: 0.6613, Accuracy: 75.38%\n",
      "Validation Loss: 0.8610, Accuracy: 69.61%\n",
      "Epoch 28/30:\n",
      "Training Loss: 0.6427, Accuracy: 75.90%\n",
      "Validation Loss: 0.8324, Accuracy: 70.44%\n",
      "Epoch 29/30:\n",
      "Training Loss: 0.6261, Accuracy: 76.83%\n",
      "Validation Loss: 0.8384, Accuracy: 70.18%\n",
      "Epoch 30/30:\n",
      "Training Loss: 0.6083, Accuracy: 77.36%\n",
      "Validation Loss: 0.8555, Accuracy: 70.58%\n"
     ]
    }
   ],
   "source": [
    "train_model(model, train_loader, val_loader, criterion, optimizer, n_epochs=30)"
   ]
  },
  {
   "cell_type": "code",
   "execution_count": 35,
   "metadata": {
    "execution": {
     "iopub.execute_input": "2024-12-18T15:26:26.494792Z",
     "iopub.status.busy": "2024-12-18T15:26:26.493859Z",
     "iopub.status.idle": "2024-12-18T15:26:27.189413Z",
     "shell.execute_reply": "2024-12-18T15:26:27.188443Z",
     "shell.execute_reply.started": "2024-12-18T15:26:26.494754Z"
    },
    "trusted": true
   },
   "outputs": [
    {
     "name": "stdout",
     "output_type": "stream",
     "text": [
      "Validation Loss: 0.8555\n",
      "Precision: 0.7043\n",
      "Recall: 0.7058\n",
      "F1 Score: 0.7000\n"
     ]
    },
    {
     "data": {
      "image/png": "[encoded data removed]",
      "text/plain": [
       "<Figure size 800x600 with 2 Axes>"
      ]
     },
     "metadata": {},
     "output_type": "display_data"
    }
   ],
   "source": [
    "import matplotlib.pyplot as plt\n",
    "import seaborn as sns\n",
    "from sklearn.metrics import precision_score, recall_score, f1_score, confusion_matrix\n",
    "import torch\n",
    "\n",
    "# Ustaw urządzenie\n",
    "device = torch.device(\"cuda\" if torch.cuda.is_available() else \"cpu\")\n",
    "model.to(device)\n",
    "\n",
    "def evaluate_model(model, val_loader, criterion):\n",
    "    model.eval()\n",
    "    all_preds = []\n",
    "    all_labels = []\n",
    "    total_loss = 0\n",
    "\n",
    "    with torch.no_grad():\n",
    "        for texts, labels in val_loader:\n",
    "            # Przenieś dane na to samo urządzenie co model\n",
    "            texts, labels = texts.to(device), labels.to(device)\n",
    "\n",
    "            # Forward pass\n",
    "            outputs = model(texts)\n",
    "            loss = criterion(outputs, labels)\n",
    "            total_loss += loss.item()\n",
    "\n",
    "            # Predictions\n",
    "            preds = torch.argmax(outputs, dim=1)\n",
    "            all_preds.extend(preds.cpu().numpy())\n",
    "            all_labels.extend(labels.cpu().numpy())\n",
    "\n",
    "    # Calculate metrics\n",
    "    precision = precision_score(all_labels, all_preds, average='weighted')\n",
    "    recall = recall_score(all_labels, all_preds, average='weighted')\n",
    "    f1 = f1_score(all_labels, all_preds, average='weighted')\n",
    "\n",
    "    print(f\"Validation Loss: {total_loss / len(val_loader):.4f}\")\n",
    "    print(f\"Precision: {precision:.4f}\")\n",
    "    print(f\"Recall: {recall:.4f}\")\n",
    "    print(f\"F1 Score: {f1:.4f}\")\n",
    "\n",
    "    # Confusion Matrix\n",
    "    cm = confusion_matrix(all_labels, all_preds)\n",
    "    plt.figure(figsize=(8, 6))\n",
    "    sns.heatmap(cm, annot=True, fmt='d', cmap='Blues', xticklabels=range(4), yticklabels=range(4))\n",
    "    plt.xlabel(\"Predicted\")\n",
    "    plt.ylabel(\"True\")\n",
    "    plt.title(\"Confusion Matrix\")\n",
    "    plt.show()\n",
    "\n",
    "# Wywołanie funkcji ewaluacyjnej\n",
    "evaluate_model(model, val_loader, criterion)"
   ]
  }
 ],
 "metadata": {
  "kaggle": {
   "accelerator": "gpu",
   "dataSources": [
    {
     "datasetId": 6302968,
     "sourceId": 10200063,
     "sourceType": "datasetVersion"
    },
    {
     "datasetId": 6329343,
     "sourceId": 10235887,
     "sourceType": "datasetVersion"
    }
   ],
   "dockerImageVersionId": 30805,
   "isGpuEnabled": true,
   "isInternetEnabled": true,
   "language": "python",
   "sourceType": "notebook"
  },
  "kernelspec": {
   "display_name": "Python 3",
   "language": "python",
   "name": "python3"
  },
  "language_info": {
   "codemirror_mode": {
    "name": "ipython",
    "version": 3
   },
   "file_extension": ".py",
   "mimetype": "text/x-python",
   "name": "python",
   "nbconvert_exporter": "python",
   "pygments_lexer": "ipython3",
   "version": "3.10.14"
  }
 },
 "nbformat": 4,
 "nbformat_minor": 4
}
