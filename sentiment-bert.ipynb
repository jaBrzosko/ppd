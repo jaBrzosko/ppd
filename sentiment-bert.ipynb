{
 "cells": [
  {
   "cell_type": "code",
   "execution_count": 59,
   "metadata": {
    "execution": {
     "iopub.execute_input": "2024-12-18T14:36:38.770924Z",
     "iopub.status.busy": "2024-12-18T14:36:38.770080Z",
     "iopub.status.idle": "2024-12-18T14:36:38.775535Z",
     "shell.execute_reply": "2024-12-18T14:36:38.774648Z",
     "shell.execute_reply.started": "2024-12-18T14:36:38.770868Z"
    },
    "trusted": true
   },
   "outputs": [],
   "source": [
    "import pandas as pd\n",
    "from sklearn.feature_extraction.text import TfidfVectorizer\n",
    "from sklearn.preprocessing import OneHotEncoder\n",
    "from sklearn.metrics import accuracy_score, confusion_matrix, classification_report, precision_score, recall_score, f1_score, roc_auc_score\n",
    "import string\n",
    "import emoji\n",
    "import optuna"
   ]
  },
  {
   "cell_type": "code",
   "execution_count": 60,
   "metadata": {
    "execution": {
     "iopub.execute_input": "2024-12-18T14:36:38.777844Z",
     "iopub.status.busy": "2024-12-18T14:36:38.777238Z",
     "iopub.status.idle": "2024-12-18T14:36:38.788099Z",
     "shell.execute_reply": "2024-12-18T14:36:38.787224Z",
     "shell.execute_reply.started": "2024-12-18T14:36:38.777806Z"
    },
    "trusted": true
   },
   "outputs": [],
   "source": [
    "def replace_polish_lowercase(text):\n",
    "    polish_to_latin = {\n",
    "        'ą': 'a', 'ć': 'c', 'ę': 'e', 'ł': 'l', 'ń': 'n', \n",
    "        'ó': 'o', 'ś': 's', 'ź': 'z', 'ż': 'z'\n",
    "    }\n",
    "    return ''.join(polish_to_latin.get(char, char) for char in text)\n",
    "\n",
    "def replace_emojis(text):\n",
    "    return emoji.demojize(text, delimiters=(\" \", \" \"))\n",
    "\n",
    "def preprocess_text(text):\n",
    "    # Lowercase\n",
    "    text = text.lower()\n",
    "    # Replace emojis\n",
    "    text = replace_emojis(text)\n",
    "    # Remove punctuation\n",
    "    text = text.translate(str.maketrans('', '', string.punctuation))\n",
    "    # Remove polish letters\n",
    "    text = replace_polish_lowercase(text)\n",
    "    # Tokenize (split by whitespace)\n",
    "    tokens = text.split()\n",
    "    return ' '.join(tokens)  # Join tokens back into a string for TF-IDF"
   ]
  },
  {
   "cell_type": "code",
   "execution_count": 61,
   "metadata": {
    "execution": {
     "iopub.execute_input": "2024-12-18T14:36:38.790333Z",
     "iopub.status.busy": "2024-12-18T14:36:38.789550Z",
     "iopub.status.idle": "2024-12-18T14:36:38.798258Z",
     "shell.execute_reply": "2024-12-18T14:36:38.797567Z",
     "shell.execute_reply.started": "2024-12-18T14:36:38.790295Z"
    },
    "trusted": true
   },
   "outputs": [],
   "source": [
    "FILENAME_DEV = '/kaggle/input/dataset-conll/all.sentence.dev.txt'\n",
    "FILENAME_TRAIN = '/kaggle/input/dataset-conll/all.sentence.train.txt'\n",
    "FILENAME_TEST = '/kaggle/input/dataset-conll/all.sentence.test.txt'\n",
    "\n",
    "LABELS = {\n",
    "    \"__label__z_minus_m\": \"Negative sentiment\", \n",
    "    \"__label__z_plus_m\": \"Positive sentiment\",\n",
    "    \"__label__z_zero\": \"No sentiment\",\n",
    "    \"__label__z_amb\": \"Unsure\",\n",
    "    }\n"
   ]
  },
  {
   "cell_type": "code",
   "execution_count": 62,
   "metadata": {
    "execution": {
     "iopub.execute_input": "2024-12-18T14:36:38.799336Z",
     "iopub.status.busy": "2024-12-18T14:36:38.799097Z",
     "iopub.status.idle": "2024-12-18T14:36:38.813219Z",
     "shell.execute_reply": "2024-12-18T14:36:38.812428Z",
     "shell.execute_reply.started": "2024-12-18T14:36:38.799312Z"
    },
    "trusted": true
   },
   "outputs": [],
   "source": [
    "def load_df(filename):\n",
    "    with open(filename, 'r', encoding=\"utf8\") as f:\n",
    "        lines = f.readlines()\n",
    "        data = [line.strip() for line in lines]\n",
    "        # get last word from each item as a label and match with data\n",
    "        labeled_data = []\n",
    "        for item in data:\n",
    "            label = item.split()[-1]\n",
    "            sentence_data = ' '.join(item.split()[:-1])\n",
    "            labeled_data.append((sentence_data, LABELS[label]))\n",
    "\n",
    "        # create a dataframe\n",
    "        df = pd.DataFrame(labeled_data, columns=['text', 'labels'])\n",
    "        return df"
   ]
  },
  {
   "cell_type": "markdown",
   "metadata": {},
   "source": [
    "# Read data"
   ]
  },
  {
   "cell_type": "code",
   "execution_count": 63,
   "metadata": {
    "execution": {
     "iopub.execute_input": "2024-12-18T14:36:38.815176Z",
     "iopub.status.busy": "2024-12-18T14:36:38.814871Z",
     "iopub.status.idle": "2024-12-18T14:36:39.097293Z",
     "shell.execute_reply": "2024-12-18T14:36:39.096336Z",
     "shell.execute_reply.started": "2024-12-18T14:36:38.815151Z"
    },
    "trusted": true
   },
   "outputs": [],
   "source": [
    "df_train = load_df(FILENAME_TRAIN)\n",
    "df_test = load_df(FILENAME_TEST)"
   ]
  },
  {
   "cell_type": "code",
   "execution_count": 64,
   "metadata": {
    "execution": {
     "iopub.execute_input": "2024-12-18T14:36:39.099067Z",
     "iopub.status.busy": "2024-12-18T14:36:39.098743Z",
     "iopub.status.idle": "2024-12-18T14:36:44.547295Z",
     "shell.execute_reply": "2024-12-18T14:36:44.546598Z",
     "shell.execute_reply.started": "2024-12-18T14:36:39.099039Z"
    },
    "trusted": true
   },
   "outputs": [],
   "source": [
    "df_train['text'] = df_train['text'].apply(preprocess_text)\n",
    "df_test['text'] = df_test['text'].apply(preprocess_text)"
   ]
  },
  {
   "cell_type": "code",
   "execution_count": 65,
   "metadata": {
    "execution": {
     "iopub.execute_input": "2024-12-18T14:36:44.548613Z",
     "iopub.status.busy": "2024-12-18T14:36:44.548340Z",
     "iopub.status.idle": "2024-12-18T14:36:44.557937Z",
     "shell.execute_reply": "2024-12-18T14:36:44.556941Z",
     "shell.execute_reply.started": "2024-12-18T14:36:44.548587Z"
    },
    "trusted": true
   },
   "outputs": [
    {
     "data": {
      "text/html": [
       "<div>\n",
       "<style scoped>\n",
       "    .dataframe tbody tr th:only-of-type {\n",
       "        vertical-align: middle;\n",
       "    }\n",
       "\n",
       "    .dataframe tbody tr th {\n",
       "        vertical-align: top;\n",
       "    }\n",
       "\n",
       "    .dataframe thead th {\n",
       "        text-align: right;\n",
       "    }\n",
       "</style>\n",
       "<table border=\"1\" class=\"dataframe\">\n",
       "  <thead>\n",
       "    <tr style=\"text-align: right;\">\n",
       "      <th></th>\n",
       "      <th>text</th>\n",
       "      <th>labels</th>\n",
       "    </tr>\n",
       "  </thead>\n",
       "  <tbody>\n",
       "    <tr>\n",
       "      <th>24227</th>\n",
       "      <td>ostatnio pojawilo sie kilka nowosci w menu to ...</td>\n",
       "      <td>Positive sentiment</td>\n",
       "    </tr>\n",
       "    <tr>\n",
       "      <th>21194</th>\n",
       "      <td>w daniach bardzo maly wybor miesa przesuszone ...</td>\n",
       "      <td>Negative sentiment</td>\n",
       "    </tr>\n",
       "    <tr>\n",
       "      <th>10506</th>\n",
       "      <td>tylko zwiekszymy dawke lekow</td>\n",
       "      <td>Negative sentiment</td>\n",
       "    </tr>\n",
       "    <tr>\n",
       "      <th>13867</th>\n",
       "      <td>poszla m na jedna wizyte z kompletem dokumento...</td>\n",
       "      <td>Positive sentiment</td>\n",
       "    </tr>\n",
       "    <tr>\n",
       "      <th>1000</th>\n",
       "      <td>i to maja byc cztery gwiazdki pokoje male lazi...</td>\n",
       "      <td>Negative sentiment</td>\n",
       "    </tr>\n",
       "  </tbody>\n",
       "</table>\n",
       "</div>"
      ],
      "text/plain": [
       "                                                    text              labels\n",
       "24227  ostatnio pojawilo sie kilka nowosci w menu to ...  Positive sentiment\n",
       "21194  w daniach bardzo maly wybor miesa przesuszone ...  Negative sentiment\n",
       "10506                       tylko zwiekszymy dawke lekow  Negative sentiment\n",
       "13867  poszla m na jedna wizyte z kompletem dokumento...  Positive sentiment\n",
       "1000   i to maja byc cztery gwiazdki pokoje male lazi...  Negative sentiment"
      ]
     },
     "execution_count": 65,
     "metadata": {},
     "output_type": "execute_result"
    }
   ],
   "source": [
    "df_train.sample(5)"
   ]
  },
  {
   "cell_type": "markdown",
   "metadata": {},
   "source": [
    "# BERT fine tuning"
   ]
  },
  {
   "cell_type": "code",
   "execution_count": 66,
   "metadata": {
    "execution": {
     "iopub.execute_input": "2024-12-18T14:36:44.559866Z",
     "iopub.status.busy": "2024-12-18T14:36:44.559444Z",
     "iopub.status.idle": "2024-12-18T14:36:44.573567Z",
     "shell.execute_reply": "2024-12-18T14:36:44.572738Z",
     "shell.execute_reply.started": "2024-12-18T14:36:44.559825Z"
    },
    "trusted": true
   },
   "outputs": [],
   "source": [
    "from transformers import (\n",
    "    AutoTokenizer, \n",
    "    AutoModelForSequenceClassification,\n",
    "    TrainingArguments,\n",
    "    Trainer\n",
    ")\n",
    "import torch\n",
    "from torch.utils.data import Dataset\n",
    "import numpy as np"
   ]
  },
  {
   "cell_type": "code",
   "execution_count": 67,
   "metadata": {
    "execution": {
     "iopub.execute_input": "2024-12-18T14:36:44.575151Z",
     "iopub.status.busy": "2024-12-18T14:36:44.574722Z",
     "iopub.status.idle": "2024-12-18T14:36:45.153751Z",
     "shell.execute_reply": "2024-12-18T14:36:45.153113Z",
     "shell.execute_reply.started": "2024-12-18T14:36:44.575113Z"
    },
    "trusted": true
   },
   "outputs": [
    {
     "name": "stderr",
     "output_type": "stream",
     "text": [
      "Some weights of BertForSequenceClassification were not initialized from the model checkpoint at dkleczek/bert-base-polish-uncased-v1 and are newly initialized: ['classifier.bias', 'classifier.weight']\n",
      "You should probably TRAIN this model on a down-stream task to be able to use it for predictions and inference.\n"
     ]
    }
   ],
   "source": [
    "tokenizer = AutoTokenizer.from_pretrained(\"dkleczek/bert-base-polish-uncased-v1\")\n",
    "model = AutoModelForSequenceClassification.from_pretrained(\n",
    "    \"dkleczek/bert-base-polish-uncased-v1\",\n",
    "    num_labels=4\n",
    ")"
   ]
  },
  {
   "cell_type": "code",
   "execution_count": 68,
   "metadata": {
    "execution": {
     "iopub.execute_input": "2024-12-18T14:36:45.157196Z",
     "iopub.status.busy": "2024-12-18T14:36:45.156944Z",
     "iopub.status.idle": "2024-12-18T14:36:45.162739Z",
     "shell.execute_reply": "2024-12-18T14:36:45.161886Z",
     "shell.execute_reply.started": "2024-12-18T14:36:45.157171Z"
    },
    "trusted": true
   },
   "outputs": [],
   "source": [
    "class TextClassificationDataset(Dataset):\n",
    "    def __init__(self, texts, labels, tokenizer, max_length=128):\n",
    "        self.encodings = tokenizer(texts, truncation=True, padding=True, max_length=max_length)\n",
    "        self.labels = labels\n",
    "\n",
    "    def __getitem__(self, idx):\n",
    "        item = {key: torch.tensor(val[idx]) for key, val in self.encodings.items()}\n",
    "        item['labels'] = torch.tensor(self.labels[idx])\n",
    "        return item\n",
    "\n",
    "    def __len__(self):\n",
    "        return len(self.labels)"
   ]
  },
  {
   "cell_type": "code",
   "execution_count": 69,
   "metadata": {
    "execution": {
     "iopub.execute_input": "2024-12-18T14:36:45.164192Z",
     "iopub.status.busy": "2024-12-18T14:36:45.163855Z",
     "iopub.status.idle": "2024-12-18T14:36:45.179548Z",
     "shell.execute_reply": "2024-12-18T14:36:45.178697Z",
     "shell.execute_reply.started": "2024-12-18T14:36:45.164158Z"
    },
    "trusted": true
   },
   "outputs": [],
   "source": [
    "def prepare_data_for_training(df):\n",
    "    label_map = {\n",
    "        'Negative sentiment': 0,\n",
    "        'No sentiment': 1,\n",
    "        'Unsure': 2,\n",
    "        'Positive sentiment': 3\n",
    "    }\n",
    "    \n",
    "    labels = [label_map[label] for label in df['labels']]\n",
    "    texts = df['text'].tolist()\n",
    "    \n",
    "    return texts, labels"
   ]
  },
  {
   "cell_type": "code",
   "execution_count": 70,
   "metadata": {
    "execution": {
     "iopub.execute_input": "2024-12-18T14:36:45.181146Z",
     "iopub.status.busy": "2024-12-18T14:36:45.180778Z",
     "iopub.status.idle": "2024-12-18T14:36:45.190869Z",
     "shell.execute_reply": "2024-12-18T14:36:45.190114Z",
     "shell.execute_reply.started": "2024-12-18T14:36:45.181108Z"
    },
    "trusted": true
   },
   "outputs": [],
   "source": [
    "def train_classifier(train_df, test_df):\n",
    "    train_texts, train_labels = prepare_data_for_training(train_df)\n",
    "    test_texts, test_labels = prepare_data_for_training(test_df)\n",
    "    \n",
    "    train_dataset = TextClassificationDataset(train_texts, train_labels, tokenizer)\n",
    "    test_dataset = TextClassificationDataset(test_texts, test_labels, tokenizer)\n",
    "\n",
    "    def objective(trial):\n",
    "        learning_rate = trial.suggest_float(\"learning_rate\", 1e-5, 5e-5, log=True)\n",
    "        batch_size = trial.suggest_categorical(\"batch_size\", [8, 16, 32])\n",
    "\n",
    "        training_args = TrainingArguments(\n",
    "            output_dir=\"./results_optuna\",\n",
    "            num_train_epochs=1,\n",
    "            per_device_train_batch_size=batch_size,\n",
    "            per_device_eval_batch_size=batch_size,\n",
    "            warmup_steps=500,\n",
    "            weight_decay=0.01,\n",
    "            learning_rate=learning_rate,\n",
    "            eval_strategy=\"epoch\",\n",
    "            save_strategy=\"epoch\",\n",
    "            load_best_model_at_end=True,\n",
    "            logging_dir=\"./logs_optuna\",\n",
    "            report_to=[\"none\"],\n",
    "        )\n",
    "\n",
    "        trainer = Trainer(\n",
    "            model=model,\n",
    "            args=training_args,\n",
    "            train_dataset=train_dataset,\n",
    "            eval_dataset=test_dataset,\n",
    "        )\n",
    "\n",
    "        trainer.train()\n",
    "\n",
    "        eval_results = trainer.evaluate()\n",
    "        return eval_results[\"eval_loss\"]\n",
    "\n",
    "    print(\"Hyperparameter optimalization...\")\n",
    "    study = optuna.create_study(direction=\"minimize\")\n",
    "    study.optimize(objective, n_trials=2)\n",
    "\n",
    "    best_params = study.best_params\n",
    "    print(\"Best parameters: \", best_params)\n",
    "\n",
    "    training_args = TrainingArguments(\n",
    "        output_dir=\"./results\",\n",
    "        num_train_epochs=1,\n",
    "        per_device_train_batch_size=best_params[\"batch_size\"],\n",
    "        per_device_eval_batch_size=best_params[\"batch_size\"],\n",
    "        warmup_steps=500,\n",
    "        weight_decay=0.01,\n",
    "        learning_rate=best_params[\"learning_rate\"],\n",
    "        eval_strategy=\"epoch\",\n",
    "        save_strategy=\"epoch\",\n",
    "        load_best_model_at_end=True,\n",
    "        logging_dir=\"./logs\",\n",
    "        logging_steps=10,\n",
    "        report_to=[\"none\"],\n",
    "    )\n",
    "\n",
    "    trainer = Trainer(\n",
    "        model=model,\n",
    "        args=training_args,\n",
    "        train_dataset=train_dataset,\n",
    "        eval_dataset=test_dataset,\n",
    "    )\n",
    "\n",
    "    trainer.train()\n",
    "\n",
    "    return trainer, model, best_params"
   ]
  },
  {
   "cell_type": "code",
   "execution_count": 71,
   "metadata": {
    "execution": {
     "iopub.execute_input": "2024-12-18T14:36:45.192726Z",
     "iopub.status.busy": "2024-12-18T14:36:45.191845Z",
     "iopub.status.idle": "2024-12-18T14:36:45.207595Z",
     "shell.execute_reply": "2024-12-18T14:36:45.204784Z",
     "shell.execute_reply.started": "2024-12-18T14:36:45.192698Z"
    },
    "trusted": true
   },
   "outputs": [],
   "source": [
    "def predict(texts, model):\n",
    "    inputs = tokenizer(texts, truncation=True, padding=True, return_tensors=\"pt\").to('cuda')\n",
    "    outputs = model(**inputs)\n",
    "    predictions = torch.nn.functional.softmax(outputs.logits, dim=-1)\n",
    "    \n",
    "    label_map_reverse = {\n",
    "        0: 'Negative sentiment',\n",
    "        1: 'No sentiment',\n",
    "        2: 'Unsure',\n",
    "        3: 'Positive sentiment'\n",
    "    }\n",
    "    \n",
    "    pred_labels = [label_map_reverse[pred.argmax()] for pred in predictions.detach().numpy()]\n",
    "    return pred_labels, predictions.detach().cpu().numpy()"
   ]
  },
  {
   "cell_type": "code",
   "execution_count": 72,
   "metadata": {
    "execution": {
     "iopub.execute_input": "2024-12-18T14:36:45.208748Z",
     "iopub.status.busy": "2024-12-18T14:36:45.208499Z",
     "iopub.status.idle": "2024-12-18T15:10:57.696628Z",
     "shell.execute_reply": "2024-12-18T15:10:57.695953Z",
     "shell.execute_reply.started": "2024-12-18T14:36:45.208724Z"
    },
    "trusted": true
   },
   "outputs": [
    {
     "name": "stderr",
     "output_type": "stream",
     "text": [
      "[I 2024-12-18 14:36:49,642] A new study created in memory with name: no-name-d70ca3cc-5c4e-473f-bcab-e64a6816c8b5\n"
     ]
    },
    {
     "name": "stdout",
     "output_type": "stream",
     "text": [
      "Hyperparameter optimalization...\n"
     ]
    },
    {
     "name": "stderr",
     "output_type": "stream",
     "text": [
      "/opt/conda/lib/python3.10/site-packages/torch/nn/parallel/parallel_apply.py:79: FutureWarning: `torch.cuda.amp.autocast(args...)` is deprecated. Please use `torch.amp.autocast('cuda', args...)` instead.\n",
      "  with torch.cuda.device(device), torch.cuda.stream(stream), autocast(enabled=autocast_enabled):\n",
      "/opt/conda/lib/python3.10/site-packages/torch/nn/parallel/_functions.py:68: UserWarning: Was asked to gather along dimension 0, but all input tensors were scalars; will instead unsqueeze and return a vector.\n",
      "  warnings.warn('Was asked to gather along dimension 0, but all '\n"
     ]
    },
    {
     "data": {
      "text/html": [
       "\n",
       "    <div>\n",
       "      \n",
       "      <progress value='1437' max='1437' style='width:300px; height:20px; vertical-align: middle;'></progress>\n",
       "      [1437/1437 12:04, Epoch 1/1]\n",
       "    </div>\n",
       "    <table border=\"1\" class=\"dataframe\">\n",
       "  <thead>\n",
       " <tr style=\"text-align: left;\">\n",
       "      <th>Epoch</th>\n",
       "      <th>Training Loss</th>\n",
       "      <th>Validation Loss</th>\n",
       "    </tr>\n",
       "  </thead>\n",
       "  <tbody>\n",
       "    <tr>\n",
       "      <td>1</td>\n",
       "      <td>0.675900</td>\n",
       "      <td>0.589749</td>\n",
       "    </tr>\n",
       "  </tbody>\n",
       "</table><p>"
      ],
      "text/plain": [
       "<IPython.core.display.HTML object>"
      ]
     },
     "metadata": {},
     "output_type": "display_data"
    },
    {
     "name": "stderr",
     "output_type": "stream",
     "text": [
      "/opt/conda/lib/python3.10/site-packages/torch/nn/parallel/parallel_apply.py:79: FutureWarning: `torch.cuda.amp.autocast(args...)` is deprecated. Please use `torch.amp.autocast('cuda', args...)` instead.\n",
      "  with torch.cuda.device(device), torch.cuda.stream(stream), autocast(enabled=autocast_enabled):\n",
      "/opt/conda/lib/python3.10/site-packages/torch/nn/parallel/_functions.py:68: UserWarning: Was asked to gather along dimension 0, but all input tensors were scalars; will instead unsqueeze and return a vector.\n",
      "  warnings.warn('Was asked to gather along dimension 0, but all '\n",
      "/opt/conda/lib/python3.10/site-packages/torch/nn/parallel/parallel_apply.py:79: FutureWarning: `torch.cuda.amp.autocast(args...)` is deprecated. Please use `torch.amp.autocast('cuda', args...)` instead.\n",
      "  with torch.cuda.device(device), torch.cuda.stream(stream), autocast(enabled=autocast_enabled):\n",
      "/opt/conda/lib/python3.10/site-packages/torch/nn/parallel/_functions.py:68: UserWarning: Was asked to gather along dimension 0, but all input tensors were scalars; will instead unsqueeze and return a vector.\n",
      "  warnings.warn('Was asked to gather along dimension 0, but all '\n"
     ]
    },
    {
     "data": {
      "text/html": [
       "\n",
       "    <div>\n",
       "      \n",
       "      <progress value='180' max='180' style='width:300px; height:20px; vertical-align: middle;'></progress>\n",
       "      [180/180 00:30]\n",
       "    </div>\n",
       "    "
      ],
      "text/plain": [
       "<IPython.core.display.HTML object>"
      ]
     },
     "metadata": {},
     "output_type": "display_data"
    },
    {
     "name": "stderr",
     "output_type": "stream",
     "text": [
      "[I 2024-12-18 14:49:26,296] Trial 0 finished with value: 0.5897487998008728 and parameters: {'learning_rate': 2.5527576737724803e-05, 'batch_size': 16}. Best is trial 0 with value: 0.5897487998008728.\n",
      "/opt/conda/lib/python3.10/site-packages/torch/nn/parallel/parallel_apply.py:79: FutureWarning: `torch.cuda.amp.autocast(args...)` is deprecated. Please use `torch.amp.autocast('cuda', args...)` instead.\n",
      "  with torch.cuda.device(device), torch.cuda.stream(stream), autocast(enabled=autocast_enabled):\n",
      "/opt/conda/lib/python3.10/site-packages/torch/nn/parallel/_functions.py:68: UserWarning: Was asked to gather along dimension 0, but all input tensors were scalars; will instead unsqueeze and return a vector.\n",
      "  warnings.warn('Was asked to gather along dimension 0, but all '\n"
     ]
    },
    {
     "data": {
      "text/html": [
       "\n",
       "    <div>\n",
       "      \n",
       "      <progress value='719' max='719' style='width:300px; height:20px; vertical-align: middle;'></progress>\n",
       "      [719/719 10:44, Epoch 1/1]\n",
       "    </div>\n",
       "    <table border=\"1\" class=\"dataframe\">\n",
       "  <thead>\n",
       " <tr style=\"text-align: left;\">\n",
       "      <th>Epoch</th>\n",
       "      <th>Training Loss</th>\n",
       "      <th>Validation Loss</th>\n",
       "    </tr>\n",
       "  </thead>\n",
       "  <tbody>\n",
       "    <tr>\n",
       "      <td>1</td>\n",
       "      <td>0.451300</td>\n",
       "      <td>0.584603</td>\n",
       "    </tr>\n",
       "  </tbody>\n",
       "</table><p>"
      ],
      "text/plain": [
       "<IPython.core.display.HTML object>"
      ]
     },
     "metadata": {},
     "output_type": "display_data"
    },
    {
     "name": "stderr",
     "output_type": "stream",
     "text": [
      "/opt/conda/lib/python3.10/site-packages/torch/nn/parallel/parallel_apply.py:79: FutureWarning: `torch.cuda.amp.autocast(args...)` is deprecated. Please use `torch.amp.autocast('cuda', args...)` instead.\n",
      "  with torch.cuda.device(device), torch.cuda.stream(stream), autocast(enabled=autocast_enabled):\n",
      "/opt/conda/lib/python3.10/site-packages/torch/nn/parallel/_functions.py:68: UserWarning: Was asked to gather along dimension 0, but all input tensors were scalars; will instead unsqueeze and return a vector.\n",
      "  warnings.warn('Was asked to gather along dimension 0, but all '\n",
      "/opt/conda/lib/python3.10/site-packages/torch/nn/parallel/parallel_apply.py:79: FutureWarning: `torch.cuda.amp.autocast(args...)` is deprecated. Please use `torch.amp.autocast('cuda', args...)` instead.\n",
      "  with torch.cuda.device(device), torch.cuda.stream(stream), autocast(enabled=autocast_enabled):\n",
      "/opt/conda/lib/python3.10/site-packages/torch/nn/parallel/_functions.py:68: UserWarning: Was asked to gather along dimension 0, but all input tensors were scalars; will instead unsqueeze and return a vector.\n",
      "  warnings.warn('Was asked to gather along dimension 0, but all '\n"
     ]
    },
    {
     "data": {
      "text/html": [
       "\n",
       "    <div>\n",
       "      \n",
       "      <progress value='90' max='90' style='width:300px; height:20px; vertical-align: middle;'></progress>\n",
       "      [90/90 00:26]\n",
       "    </div>\n",
       "    "
      ],
      "text/plain": [
       "<IPython.core.display.HTML object>"
      ]
     },
     "metadata": {},
     "output_type": "display_data"
    },
    {
     "name": "stderr",
     "output_type": "stream",
     "text": [
      "[I 2024-12-18 15:00:39,571] Trial 1 finished with value: 0.5846028923988342 and parameters: {'learning_rate': 2.361210956106889e-05, 'batch_size': 32}. Best is trial 1 with value: 0.5846028923988342.\n"
     ]
    },
    {
     "name": "stdout",
     "output_type": "stream",
     "text": [
      "Best parameters:  {'learning_rate': 2.361210956106889e-05, 'batch_size': 32}\n"
     ]
    },
    {
     "name": "stderr",
     "output_type": "stream",
     "text": [
      "/opt/conda/lib/python3.10/site-packages/torch/nn/parallel/parallel_apply.py:79: FutureWarning: `torch.cuda.amp.autocast(args...)` is deprecated. Please use `torch.amp.autocast('cuda', args...)` instead.\n",
      "  with torch.cuda.device(device), torch.cuda.stream(stream), autocast(enabled=autocast_enabled):\n",
      "/opt/conda/lib/python3.10/site-packages/torch/nn/parallel/_functions.py:68: UserWarning: Was asked to gather along dimension 0, but all input tensors were scalars; will instead unsqueeze and return a vector.\n",
      "  warnings.warn('Was asked to gather along dimension 0, but all '\n"
     ]
    },
    {
     "data": {
      "text/html": [
       "\n",
       "    <div>\n",
       "      \n",
       "      <progress value='719' max='719' style='width:300px; height:20px; vertical-align: middle;'></progress>\n",
       "      [719/719 10:15, Epoch 1/1]\n",
       "    </div>\n",
       "    <table border=\"1\" class=\"dataframe\">\n",
       "  <thead>\n",
       " <tr style=\"text-align: left;\">\n",
       "      <th>Epoch</th>\n",
       "      <th>Training Loss</th>\n",
       "      <th>Validation Loss</th>\n",
       "    </tr>\n",
       "  </thead>\n",
       "  <tbody>\n",
       "    <tr>\n",
       "      <td>1</td>\n",
       "      <td>0.640800</td>\n",
       "      <td>0.694871</td>\n",
       "    </tr>\n",
       "  </tbody>\n",
       "</table><p>"
      ],
      "text/plain": [
       "<IPython.core.display.HTML object>"
      ]
     },
     "metadata": {},
     "output_type": "display_data"
    },
    {
     "name": "stderr",
     "output_type": "stream",
     "text": [
      "/opt/conda/lib/python3.10/site-packages/torch/nn/parallel/parallel_apply.py:79: FutureWarning: `torch.cuda.amp.autocast(args...)` is deprecated. Please use `torch.amp.autocast('cuda', args...)` instead.\n",
      "  with torch.cuda.device(device), torch.cuda.stream(stream), autocast(enabled=autocast_enabled):\n",
      "/opt/conda/lib/python3.10/site-packages/torch/nn/parallel/_functions.py:68: UserWarning: Was asked to gather along dimension 0, but all input tensors were scalars; will instead unsqueeze and return a vector.\n",
      "  warnings.warn('Was asked to gather along dimension 0, but all '\n"
     ]
    }
   ],
   "source": [
    "trainer, model, best_params = train_classifier(df_train, df_test)"
   ]
  },
  {
   "cell_type": "code",
   "execution_count": 73,
   "metadata": {
    "execution": {
     "iopub.execute_input": "2024-12-18T15:10:57.698451Z",
     "iopub.status.busy": "2024-12-18T15:10:57.698088Z",
     "iopub.status.idle": "2024-12-18T15:10:59.108839Z",
     "shell.execute_reply": "2024-12-18T15:10:59.107861Z",
     "shell.execute_reply.started": "2024-12-18T15:10:57.698412Z"
    },
    "trusted": true
   },
   "outputs": [],
   "source": [
    "model.save_pretrained(\"/kaggle/working/results\")"
   ]
  },
  {
   "cell_type": "code",
   "execution_count": 76,
   "metadata": {
    "execution": {
     "iopub.execute_input": "2024-12-18T15:15:12.606959Z",
     "iopub.status.busy": "2024-12-18T15:15:12.605867Z",
     "iopub.status.idle": "2024-12-18T15:15:50.408885Z",
     "shell.execute_reply": "2024-12-18T15:15:50.407944Z",
     "shell.execute_reply.started": "2024-12-18T15:15:12.606869Z"
    },
    "trusted": true
   },
   "outputs": [
    {
     "name": "stdout",
     "output_type": "stream",
     "text": [
      "Accuracy: 0.7791\n",
      "Confusion matrix:\n"
     ]
    },
    {
     "data": {
      "image/png": "[encoded data removed]",
      "text/plain": [
       "<Figure size 800x600 with 2 Axes>"
      ]
     },
     "metadata": {},
     "output_type": "display_data"
    },
    {
     "name": "stdout",
     "output_type": "stream",
     "text": [
      "Model Precision: 0.7742\n",
      "Model Recall: 0.7791\n",
      "Model F1-Score: 0.7757\n"
     ]
    }
   ],
   "source": [
    "test_texts, test_labels = prepare_data_for_training(df_test)\n",
    "test_dataset = TextClassificationDataset(test_texts, test_labels, tokenizer)\n",
    "\n",
    "from torch.utils.data import DataLoader\n",
    "from sklearn.metrics import accuracy_score\n",
    "import torch\n",
    "import matplotlib.pyplot as plt\n",
    "import seaborn as sns\n",
    "\n",
    "test_loader = DataLoader(test_dataset, batch_size=best_params[\"batch_size\"], shuffle=False)\n",
    "\n",
    "model.eval()\n",
    "\n",
    "all_preds = []\n",
    "all_labels = []\n",
    "\n",
    "with torch.no_grad():\n",
    "    for batch in test_loader:\n",
    "        inputs = {key: val.to(model.device) for key, val in batch.items() if key != \"labels\"}\n",
    "        labels = batch['labels'].to(model.device)\n",
    "\n",
    "        # Forward pass\n",
    "        outputs = model(**inputs)\n",
    "        preds = torch.argmax(outputs.logits, dim=1)\n",
    "\n",
    "        # Collect predictions and labels\n",
    "        all_preds.extend(preds.cpu().numpy())\n",
    "        all_labels.extend(labels.cpu().numpy())\n",
    "\n",
    "# Calculate accuracy\n",
    "accuracy = accuracy_score(all_labels, all_preds)\n",
    "print(f\"Accuracy: {accuracy:.4f}\")\n",
    "\n",
    "def plot_confusion_matrix(y_true, y_pred, label_names):\n",
    "    cm = confusion_matrix(y_true, y_pred, labels=range(len(label_names)))\n",
    "    plt.figure(figsize=(8, 6))\n",
    "    sns.heatmap(cm, annot=True, fmt='d', cmap='Blues', xticklabels=label_names, yticklabels=label_names)\n",
    "    plt.xlabel(\"Predicted\")\n",
    "    plt.ylabel(\"True\")\n",
    "    plt.title(\"Confusion Matrix\")\n",
    "    plt.show()\n",
    "\n",
    "# Plot confusion matrix\n",
    "label_names = list(LABELS.values())\n",
    "print(\"Confusion matrix:\")\n",
    "plot_confusion_matrix(all_labels, all_preds, label_names)\n",
    "\n",
    "# Precision, Recall, F1-score\n",
    "precision = precision_score(all_labels, all_preds, average='weighted')\n",
    "recall = recall_score(all_labels, all_preds, average='weighted')\n",
    "f1 = f1_score(all_labels, all_preds, average='weighted')\n",
    "\n",
    "print(f\"Model Precision: {precision:.4f}\")\n",
    "print(f\"Model Recall: {recall:.4f}\")\n",
    "print(f\"Model F1-Score: {f1:.4f}\")"
   ]
  }
 ],
 "metadata": {
  "kaggle": {
   "accelerator": "nvidiaTeslaT4",
   "dataSources": [
    {
     "datasetId": 6302968,
     "sourceId": 10200063,
     "sourceType": "datasetVersion"
    },
    {
     "datasetId": 6329343,
     "sourceId": 10235887,
     "sourceType": "datasetVersion"
    }
   ],
   "dockerImageVersionId": 30804,
   "isGpuEnabled": true,
   "isInternetEnabled": true,
   "language": "python",
   "sourceType": "notebook"
  },
  "kernelspec": {
   "display_name": "Python 3",
   "language": "python",
   "name": "python3"
  },
  "language_info": {
   "codemirror_mode": {
    "name": "ipython",
    "version": 3
   },
   "file_extension": ".py",
   "mimetype": "text/x-python",
   "name": "python",
   "nbconvert_exporter": "python",
   "pygments_lexer": "ipython3",
   "version": "3.10.14"
  }
 },
 "nbformat": 4,
 "nbformat_minor": 4
}
