{
 "cells": [
  {
   "cell_type": "code",
   "metadata": {
    "execution": {
     "iopub.execute_input": "2024-12-18T14:36:38.770924Z",
     "iopub.status.busy": "2024-12-18T14:36:38.770080Z",
     "iopub.status.idle": "2024-12-18T14:36:38.775535Z",
     "shell.execute_reply": "2024-12-18T14:36:38.774648Z",
     "shell.execute_reply.started": "2024-12-18T14:36:38.770868Z"
    },
    "ExecuteTime": {
     "end_time": "2025-01-15T02:59:56.107801Z",
     "start_time": "2025-01-15T02:59:55.987634Z"
    }
   },
   "source": [
    "import pandas as pd\n",
    "import string\n",
    "import emoji\n",
    "import optuna"
   ],
   "outputs": [],
   "execution_count": 1
  },
  {
   "cell_type": "code",
   "metadata": {
    "execution": {
     "iopub.execute_input": "2024-12-18T14:36:38.777844Z",
     "iopub.status.busy": "2024-12-18T14:36:38.777238Z",
     "iopub.status.idle": "2024-12-18T14:36:38.788099Z",
     "shell.execute_reply": "2024-12-18T14:36:38.787224Z",
     "shell.execute_reply.started": "2024-12-18T14:36:38.777806Z"
    },
    "ExecuteTime": {
     "end_time": "2025-01-15T02:59:56.115162Z",
     "start_time": "2025-01-15T02:59:56.110804Z"
    }
   },
   "source": [
    "def replace_polish_lowercase(text):\n",
    "    polish_to_latin = {\n",
    "        'ą': 'a', 'ć': 'c', 'ę': 'e', 'ł': 'l', 'ń': 'n', \n",
    "        'ó': 'o', 'ś': 's', 'ź': 'z', 'ż': 'z'\n",
    "    }\n",
    "    return ''.join(polish_to_latin.get(char, char) for char in text)\n",
    "\n",
    "def replace_emojis(text):\n",
    "    return emoji.demojize(text, delimiters=(\" \", \" \"))\n",
    "\n",
    "def preprocess_text(text):\n",
    "    # Lowercase\n",
    "    text = text.lower()\n",
    "    # Replace emojis\n",
    "    text = replace_emojis(text)\n",
    "    # Remove punctuation\n",
    "    text = text.translate(str.maketrans('', '', string.punctuation))\n",
    "    # Remove polish letters\n",
    "    text = replace_polish_lowercase(text)\n",
    "    # Tokenize (split by whitespace)\n",
    "    tokens = text.split()\n",
    "    return ' '.join(tokens)  # Join tokens back into a string for TF-IDF"
   ],
   "outputs": [],
   "execution_count": 2
  },
  {
   "cell_type": "code",
   "metadata": {
    "execution": {
     "iopub.execute_input": "2024-12-18T14:36:38.790333Z",
     "iopub.status.busy": "2024-12-18T14:36:38.789550Z",
     "iopub.status.idle": "2024-12-18T14:36:38.798258Z",
     "shell.execute_reply": "2024-12-18T14:36:38.797567Z",
     "shell.execute_reply.started": "2024-12-18T14:36:38.790295Z"
    },
    "ExecuteTime": {
     "end_time": "2025-01-15T02:59:56.348026Z",
     "start_time": "2025-01-15T02:59:56.345044Z"
    }
   },
   "source": [
    "FILENAME_DEV = './data/dataset_conll/all.sentence.dev.txt'\n",
    "FILENAME_TRAIN = './data/dataset_conll/all.sentence.train.txt'\n",
    "FILENAME_TEST = './data/dataset_conll/all.sentence.test.txt'\n",
    "\n",
    "LABELS = {\n",
    "    \"__label__z_minus_m\": \"Negative sentiment\", \n",
    "    \"__label__z_plus_m\": \"Positive sentiment\",\n",
    "    \"__label__z_zero\": \"No sentiment\",\n",
    "    \"__label__z_amb\": \"Unsure\",\n",
    "    }\n"
   ],
   "outputs": [],
   "execution_count": 3
  },
  {
   "cell_type": "code",
   "metadata": {
    "execution": {
     "iopub.execute_input": "2024-12-18T14:36:38.799336Z",
     "iopub.status.busy": "2024-12-18T14:36:38.799097Z",
     "iopub.status.idle": "2024-12-18T14:36:38.813219Z",
     "shell.execute_reply": "2024-12-18T14:36:38.812428Z",
     "shell.execute_reply.started": "2024-12-18T14:36:38.799312Z"
    },
    "ExecuteTime": {
     "end_time": "2025-01-15T02:59:56.364189Z",
     "start_time": "2025-01-15T02:59:56.360028Z"
    }
   },
   "source": [
    "def load_df(filename):\n",
    "    with open(filename, 'r', encoding=\"utf8\") as f:\n",
    "        lines = f.readlines()\n",
    "        data = [line.strip() for line in lines]\n",
    "        # get last word from each item as a label and match with data\n",
    "        labeled_data = []\n",
    "        for item in data:\n",
    "            label = item.split()[-1]\n",
    "            sentence_data = ' '.join(item.split()[:-1])\n",
    "            labeled_data.append((sentence_data, LABELS[label]))\n",
    "\n",
    "        # create a dataframe\n",
    "        df = pd.DataFrame(labeled_data, columns=['text', 'labels'])\n",
    "        return df"
   ],
   "outputs": [],
   "execution_count": 4
  },
  {
   "cell_type": "markdown",
   "metadata": {},
   "source": [
    "# Read data"
   ]
  },
  {
   "cell_type": "code",
   "metadata": {
    "execution": {
     "iopub.execute_input": "2024-12-18T14:36:38.815176Z",
     "iopub.status.busy": "2024-12-18T14:36:38.814871Z",
     "iopub.status.idle": "2024-12-18T14:36:39.097293Z",
     "shell.execute_reply": "2024-12-18T14:36:39.096336Z",
     "shell.execute_reply.started": "2024-12-18T14:36:38.815151Z"
    },
    "ExecuteTime": {
     "end_time": "2025-01-15T02:59:56.565204Z",
     "start_time": "2025-01-15T02:59:56.377568Z"
    }
   },
   "source": [
    "df_train = load_df(FILENAME_TRAIN)\n",
    "df_test = load_df(FILENAME_TEST)"
   ],
   "outputs": [],
   "execution_count": 5
  },
  {
   "cell_type": "code",
   "metadata": {
    "execution": {
     "iopub.execute_input": "2024-12-18T14:36:39.099067Z",
     "iopub.status.busy": "2024-12-18T14:36:39.098743Z",
     "iopub.status.idle": "2024-12-18T14:36:44.547295Z",
     "shell.execute_reply": "2024-12-18T14:36:44.546598Z",
     "shell.execute_reply.started": "2024-12-18T14:36:39.099039Z"
    },
    "ExecuteTime": {
     "end_time": "2025-01-15T03:00:01.580143Z",
     "start_time": "2025-01-15T02:59:56.574034Z"
    }
   },
   "source": [
    "df_train['text'] = df_train['text'].apply(preprocess_text)\n",
    "df_test['text'] = df_test['text'].apply(preprocess_text)"
   ],
   "outputs": [],
   "execution_count": 6
  },
  {
   "cell_type": "code",
   "metadata": {
    "execution": {
     "iopub.execute_input": "2024-12-18T14:36:44.548613Z",
     "iopub.status.busy": "2024-12-18T14:36:44.548340Z",
     "iopub.status.idle": "2024-12-18T14:36:44.557937Z",
     "shell.execute_reply": "2024-12-18T14:36:44.556941Z",
     "shell.execute_reply.started": "2024-12-18T14:36:44.548587Z"
    },
    "ExecuteTime": {
     "end_time": "2025-01-15T03:00:01.600175Z",
     "start_time": "2025-01-15T03:00:01.590178Z"
    }
   },
   "source": [
    "df_train.sample(5)"
   ],
   "outputs": [
    {
     "data": {
      "text/plain": [
       "                                                    text              labels\n",
       "19270   widac ze caly zespol dobrze ze soba wspolpracuje  Positive sentiment\n",
       "345    jedynym pozytywem w leo to baza zabiegowa poza...              Unsure\n",
       "43278  decydujac sie na operacje ponosimy ryzyko na k...        No sentiment\n",
       "40884  na drugi dzien nie mogli smy zostac do rozpocz...  Negative sentiment\n",
       "33171    jedzenie jak to w hotelu z oferta all inclusive              Unsure"
      ],
      "text/html": [
       "<div>\n",
       "<style scoped>\n",
       "    .dataframe tbody tr th:only-of-type {\n",
       "        vertical-align: middle;\n",
       "    }\n",
       "\n",
       "    .dataframe tbody tr th {\n",
       "        vertical-align: top;\n",
       "    }\n",
       "\n",
       "    .dataframe thead th {\n",
       "        text-align: right;\n",
       "    }\n",
       "</style>\n",
       "<table border=\"1\" class=\"dataframe\">\n",
       "  <thead>\n",
       "    <tr style=\"text-align: right;\">\n",
       "      <th></th>\n",
       "      <th>text</th>\n",
       "      <th>labels</th>\n",
       "    </tr>\n",
       "  </thead>\n",
       "  <tbody>\n",
       "    <tr>\n",
       "      <th>19270</th>\n",
       "      <td>widac ze caly zespol dobrze ze soba wspolpracuje</td>\n",
       "      <td>Positive sentiment</td>\n",
       "    </tr>\n",
       "    <tr>\n",
       "      <th>345</th>\n",
       "      <td>jedynym pozytywem w leo to baza zabiegowa poza...</td>\n",
       "      <td>Unsure</td>\n",
       "    </tr>\n",
       "    <tr>\n",
       "      <th>43278</th>\n",
       "      <td>decydujac sie na operacje ponosimy ryzyko na k...</td>\n",
       "      <td>No sentiment</td>\n",
       "    </tr>\n",
       "    <tr>\n",
       "      <th>40884</th>\n",
       "      <td>na drugi dzien nie mogli smy zostac do rozpocz...</td>\n",
       "      <td>Negative sentiment</td>\n",
       "    </tr>\n",
       "    <tr>\n",
       "      <th>33171</th>\n",
       "      <td>jedzenie jak to w hotelu z oferta all inclusive</td>\n",
       "      <td>Unsure</td>\n",
       "    </tr>\n",
       "  </tbody>\n",
       "</table>\n",
       "</div>"
      ]
     },
     "execution_count": 7,
     "metadata": {},
     "output_type": "execute_result"
    }
   ],
   "execution_count": 7
  },
  {
   "cell_type": "markdown",
   "metadata": {},
   "source": [
    "# BERT fine tuning"
   ]
  },
  {
   "cell_type": "code",
   "metadata": {
    "execution": {
     "iopub.execute_input": "2024-12-18T14:36:44.559866Z",
     "iopub.status.busy": "2024-12-18T14:36:44.559444Z",
     "iopub.status.idle": "2024-12-18T14:36:44.573567Z",
     "shell.execute_reply": "2024-12-18T14:36:44.572738Z",
     "shell.execute_reply.started": "2024-12-18T14:36:44.559825Z"
    },
    "ExecuteTime": {
     "end_time": "2025-01-15T03:00:14.595677Z",
     "start_time": "2025-01-15T03:00:01.642918Z"
    }
   },
   "source": [
    "import torch  # transformers couldn't find torch without manual import\n",
    "from transformers import (\n",
    "    AutoTokenizer, \n",
    "    AutoModelForSequenceClassification,\n",
    "    TrainingArguments,\n",
    "    Trainer\n",
    ")\n",
    "from torch.utils.data import Dataset"
   ],
   "outputs": [],
   "execution_count": 8
  },
  {
   "cell_type": "code",
   "metadata": {
    "execution": {
     "iopub.execute_input": "2024-12-18T14:36:44.575151Z",
     "iopub.status.busy": "2024-12-18T14:36:44.574722Z",
     "iopub.status.idle": "2024-12-18T14:36:45.153751Z",
     "shell.execute_reply": "2024-12-18T14:36:45.153113Z",
     "shell.execute_reply.started": "2024-12-18T14:36:44.575113Z"
    },
    "ExecuteTime": {
     "end_time": "2025-01-15T03:00:15.604987Z",
     "start_time": "2025-01-15T03:00:14.625654Z"
    }
   },
   "source": [
    "tokenizer = AutoTokenizer.from_pretrained(\"dkleczek/bert-base-polish-uncased-v1\")\n",
    "model = AutoModelForSequenceClassification.from_pretrained(\n",
    "    \"dkleczek/bert-base-polish-uncased-v1\",\n",
    "    num_labels=4\n",
    ")"
   ],
   "outputs": [
    {
     "name": "stderr",
     "output_type": "stream",
     "text": [
      "Some weights of BertForSequenceClassification were not initialized from the model checkpoint at dkleczek/bert-base-polish-uncased-v1 and are newly initialized: ['classifier.bias', 'classifier.weight']\n",
      "You should probably TRAIN this model on a down-stream task to be able to use it for predictions and inference.\n"
     ]
    }
   ],
   "execution_count": 9
  },
  {
   "cell_type": "code",
   "metadata": {
    "execution": {
     "iopub.execute_input": "2024-12-18T14:36:45.157196Z",
     "iopub.status.busy": "2024-12-18T14:36:45.156944Z",
     "iopub.status.idle": "2024-12-18T14:36:45.162739Z",
     "shell.execute_reply": "2024-12-18T14:36:45.161886Z",
     "shell.execute_reply.started": "2024-12-18T14:36:45.157171Z"
    },
    "ExecuteTime": {
     "end_time": "2025-01-15T03:00:15.618985Z",
     "start_time": "2025-01-15T03:00:15.614983Z"
    }
   },
   "source": [
    "class TextClassificationDataset(Dataset):\n",
    "    def __init__(self, texts, labels, tokenizer, max_length=128):\n",
    "        self.encodings = tokenizer(texts, truncation=True, padding=True, max_length=max_length)\n",
    "        self.labels = labels\n",
    "\n",
    "    def __getitem__(self, idx):\n",
    "        item = {key: torch.tensor(val[idx]) for key, val in self.encodings.items()}\n",
    "        item['labels'] = torch.tensor(self.labels[idx])\n",
    "        return item\n",
    "\n",
    "    def __len__(self):\n",
    "        return len(self.labels)"
   ],
   "outputs": [],
   "execution_count": 10
  },
  {
   "cell_type": "code",
   "metadata": {
    "execution": {
     "iopub.execute_input": "2024-12-18T14:36:45.164192Z",
     "iopub.status.busy": "2024-12-18T14:36:45.163855Z",
     "iopub.status.idle": "2024-12-18T14:36:45.179548Z",
     "shell.execute_reply": "2024-12-18T14:36:45.178697Z",
     "shell.execute_reply.started": "2024-12-18T14:36:45.164158Z"
    },
    "ExecuteTime": {
     "end_time": "2025-01-15T03:38:42.500525Z",
     "start_time": "2025-01-15T03:38:42.497005Z"
    }
   },
   "source": [
    "def prepare_data_for_training(df):\n",
    "    label_map = {\n",
    "        'Negative sentiment': 0,\n",
    "        'Positive sentiment': 1,\n",
    "        'No sentiment': 2,\n",
    "        'Unsure': 3,\n",
    "    }\n",
    "    \n",
    "    labels = [label_map[label] for label in df['labels']]\n",
    "    texts = df['text'].tolist()\n",
    "    \n",
    "    return texts, labels"
   ],
   "outputs": [],
   "execution_count": 17
  },
  {
   "cell_type": "code",
   "metadata": {
    "execution": {
     "iopub.execute_input": "2024-12-18T14:36:45.181146Z",
     "iopub.status.busy": "2024-12-18T14:36:45.180778Z",
     "iopub.status.idle": "2024-12-18T14:36:45.190869Z",
     "shell.execute_reply": "2024-12-18T14:36:45.190114Z",
     "shell.execute_reply.started": "2024-12-18T14:36:45.181108Z"
    },
    "ExecuteTime": {
     "end_time": "2025-01-15T03:41:01.449498Z",
     "start_time": "2025-01-15T03:41:01.442498Z"
    }
   },
   "source": [
    "def train_classifier(train_df, test_df, model):\n",
    "    train_texts, train_labels = prepare_data_for_training(train_df)\n",
    "    test_texts, test_labels = prepare_data_for_training(test_df)\n",
    "    \n",
    "    train_dataset = TextClassificationDataset(train_texts, train_labels, tokenizer)\n",
    "    test_dataset = TextClassificationDataset(test_texts, test_labels, tokenizer)\n",
    "\n",
    "    device = torch.device(\"cuda\" if torch.cuda.is_available() else \"cpu\")\n",
    "    model = model.to(device)\n",
    "\n",
    "    def objective(trial):\n",
    "        learning_rate = trial.suggest_float(\"learning_rate\", 1e-5, 5e-5, log=True)\n",
    "        batch_size = trial.suggest_categorical(\"batch_size\", [8, 16, 32])\n",
    "\n",
    "        training_args = TrainingArguments(\n",
    "            output_dir=\"./output/results_optuna\",\n",
    "            num_train_epochs=1,\n",
    "            per_device_train_batch_size=batch_size,\n",
    "            per_device_eval_batch_size=batch_size,\n",
    "            warmup_steps=500,\n",
    "            weight_decay=0.01,\n",
    "            learning_rate=learning_rate,\n",
    "            eval_strategy=\"epoch\",\n",
    "            save_strategy=\"epoch\",\n",
    "            load_best_model_at_end=True,\n",
    "            logging_dir=\"./logs_optuna\",\n",
    "            report_to=[\"none\"],\n",
    "            no_cuda=False,\n",
    "            fp16=True\n",
    "        )\n",
    "\n",
    "        trainer = Trainer(\n",
    "            model=model,\n",
    "            args=training_args,\n",
    "            train_dataset=train_dataset,\n",
    "            eval_dataset=test_dataset,\n",
    "        )\n",
    "\n",
    "        trainer.train()\n",
    "\n",
    "        eval_results = trainer.evaluate()\n",
    "        return eval_results[\"eval_loss\"]\n",
    "\n",
    "    print(\"Hyperparameter optimalization...\")\n",
    "    study = optuna.create_study(direction=\"minimize\")\n",
    "    study.optimize(objective, n_trials=2)\n",
    "\n",
    "    best_params = study.best_params\n",
    "    print(\"Best parameters: \", best_params)\n",
    "\n",
    "    training_args = TrainingArguments(\n",
    "        output_dir=\"./output/results\",\n",
    "        num_train_epochs=1,\n",
    "        per_device_train_batch_size=best_params[\"batch_size\"],\n",
    "        per_device_eval_batch_size=best_params[\"batch_size\"],\n",
    "        warmup_steps=500,\n",
    "        weight_decay=0.01,\n",
    "        learning_rate=best_params[\"learning_rate\"],\n",
    "        eval_strategy=\"epoch\",\n",
    "        save_strategy=\"epoch\",\n",
    "        load_best_model_at_end=True,\n",
    "        logging_dir=\"./logs\",\n",
    "        logging_steps=10,\n",
    "        report_to=[\"none\"],\n",
    "        no_cuda=False,\n",
    "        fp16=True\n",
    "    )\n",
    "\n",
    "    trainer = Trainer(\n",
    "        model=model,\n",
    "        args=training_args,\n",
    "        train_dataset=train_dataset,\n",
    "        eval_dataset=test_dataset,\n",
    "    )\n",
    "\n",
    "    trainer.train()\n",
    "\n",
    "    return trainer, model, best_params"
   ],
   "outputs": [],
   "execution_count": 21
  },
  {
   "cell_type": "code",
   "metadata": {
    "execution": {
     "iopub.execute_input": "2024-12-18T14:36:45.192726Z",
     "iopub.status.busy": "2024-12-18T14:36:45.191845Z",
     "iopub.status.idle": "2024-12-18T14:36:45.207595Z",
     "shell.execute_reply": "2024-12-18T14:36:45.204784Z",
     "shell.execute_reply.started": "2024-12-18T14:36:45.192698Z"
    },
    "ExecuteTime": {
     "end_time": "2025-01-15T03:38:48.703648Z",
     "start_time": "2025-01-15T03:38:48.699097Z"
    }
   },
   "source": [
    "def predict(texts, model):\n",
    "    inputs = tokenizer(texts, truncation=True, padding=True, return_tensors=\"pt\").to('cuda')\n",
    "    outputs = model(**inputs)\n",
    "    predictions = torch.nn.functional.softmax(outputs.logits, dim=-1)\n",
    "    \n",
    "    label_map_reverse = {\n",
    "        0: 'Negative sentiment',\n",
    "        1: 'Positive sentiment',\n",
    "        2: 'No sentiment',\n",
    "        3: 'Unsure',\n",
    "    }\n",
    "    \n",
    "    pred_labels = [label_map_reverse[pred.argmax()] for pred in predictions.detach().numpy()]\n",
    "    return pred_labels, predictions.detach().cpu().numpy()"
   ],
   "outputs": [],
   "execution_count": 19
  },
  {
   "cell_type": "code",
   "metadata": {
    "execution": {
     "iopub.execute_input": "2024-12-18T14:36:45.208748Z",
     "iopub.status.busy": "2024-12-18T14:36:45.208499Z",
     "iopub.status.idle": "2024-12-18T15:10:57.696628Z",
     "shell.execute_reply": "2024-12-18T15:10:57.695953Z",
     "shell.execute_reply.started": "2024-12-18T14:36:45.208724Z"
    },
    "ExecuteTime": {
     "end_time": "2025-01-15T04:00:22.387493Z",
     "start_time": "2025-01-15T03:41:07.445122Z"
    }
   },
   "source": "trainer, model, best_params = train_classifier(df_train, df_test, model)",
   "outputs": [
    {
     "name": "stderr",
     "output_type": "stream",
     "text": [
      "[I 2025-01-15 04:41:09,202] A new study created in memory with name: no-name-33a13c78-cafc-4668-b0cc-73b1fbccaca7\n"
     ]
    },
    {
     "name": "stdout",
     "output_type": "stream",
     "text": [
      "Hyperparameter optimalization...\n"
     ]
    },
    {
     "data": {
      "text/plain": [
       "<IPython.core.display.HTML object>"
      ],
      "text/html": [
       "\n",
       "    <div>\n",
       "      \n",
       "      <progress value='2874' max='2874' style='width:300px; height:20px; vertical-align: middle;'></progress>\n",
       "      [2874/2874 05:32, Epoch 1/1]\n",
       "    </div>\n",
       "    <table border=\"1\" class=\"dataframe\">\n",
       "  <thead>\n",
       " <tr style=\"text-align: left;\">\n",
       "      <th>Epoch</th>\n",
       "      <th>Training Loss</th>\n",
       "      <th>Validation Loss</th>\n",
       "    </tr>\n",
       "  </thead>\n",
       "  <tbody>\n",
       "    <tr>\n",
       "      <td>1</td>\n",
       "      <td>0.271500</td>\n",
       "      <td>0.738543</td>\n",
       "    </tr>\n",
       "  </tbody>\n",
       "</table><p>"
      ]
     },
     "metadata": {},
     "output_type": "display_data"
    },
    {
     "data": {
      "text/plain": [
       "<IPython.core.display.HTML object>"
      ],
      "text/html": [
       "\n",
       "    <div>\n",
       "      \n",
       "      <progress value='360' max='360' style='width:300px; height:20px; vertical-align: middle;'></progress>\n",
       "      [360/360 00:08]\n",
       "    </div>\n",
       "    "
      ]
     },
     "metadata": {},
     "output_type": "display_data"
    },
    {
     "name": "stderr",
     "output_type": "stream",
     "text": [
      "[I 2025-01-15 04:46:51,397] Trial 0 finished with value: 0.7385428547859192 and parameters: {'learning_rate': 4.8927289446355624e-05, 'batch_size': 16}. Best is trial 0 with value: 0.7385428547859192.\n"
     ]
    },
    {
     "data": {
      "text/plain": [
       "<IPython.core.display.HTML object>"
      ],
      "text/html": [
       "\n",
       "    <div>\n",
       "      \n",
       "      <progress value='5747' max='5747' style='width:300px; height:20px; vertical-align: middle;'></progress>\n",
       "      [5747/5747 08:05, Epoch 1/1]\n",
       "    </div>\n",
       "    <table border=\"1\" class=\"dataframe\">\n",
       "  <thead>\n",
       " <tr style=\"text-align: left;\">\n",
       "      <th>Epoch</th>\n",
       "      <th>Training Loss</th>\n",
       "      <th>Validation Loss</th>\n",
       "    </tr>\n",
       "  </thead>\n",
       "  <tbody>\n",
       "    <tr>\n",
       "      <td>1</td>\n",
       "      <td>0.569300</td>\n",
       "      <td>1.166662</td>\n",
       "    </tr>\n",
       "  </tbody>\n",
       "</table><p>"
      ]
     },
     "metadata": {},
     "output_type": "display_data"
    },
    {
     "data": {
      "text/plain": [
       "<IPython.core.display.HTML object>"
      ],
      "text/html": [
       "\n",
       "    <div>\n",
       "      \n",
       "      <progress value='719' max='719' style='width:300px; height:20px; vertical-align: middle;'></progress>\n",
       "      [719/719 00:10]\n",
       "    </div>\n",
       "    "
      ]
     },
     "metadata": {},
     "output_type": "display_data"
    },
    {
     "name": "stderr",
     "output_type": "stream",
     "text": [
      "[I 2025-01-15 04:55:08,074] Trial 1 finished with value: 1.1666624546051025 and parameters: {'learning_rate': 1.4955094075133815e-05, 'batch_size': 8}. Best is trial 0 with value: 0.7385428547859192.\n"
     ]
    },
    {
     "name": "stdout",
     "output_type": "stream",
     "text": [
      "Best parameters:  {'learning_rate': 4.8927289446355624e-05, 'batch_size': 16}\n"
     ]
    },
    {
     "data": {
      "text/plain": [
       "<IPython.core.display.HTML object>"
      ],
      "text/html": [
       "\n",
       "    <div>\n",
       "      \n",
       "      <progress value='2874' max='2874' style='width:300px; height:20px; vertical-align: middle;'></progress>\n",
       "      [2874/2874 05:13, Epoch 1/1]\n",
       "    </div>\n",
       "    <table border=\"1\" class=\"dataframe\">\n",
       "  <thead>\n",
       " <tr style=\"text-align: left;\">\n",
       "      <th>Epoch</th>\n",
       "      <th>Training Loss</th>\n",
       "      <th>Validation Loss</th>\n",
       "    </tr>\n",
       "  </thead>\n",
       "  <tbody>\n",
       "    <tr>\n",
       "      <td>1</td>\n",
       "      <td>0.876800</td>\n",
       "      <td>0.853634</td>\n",
       "    </tr>\n",
       "  </tbody>\n",
       "</table><p>"
      ]
     },
     "metadata": {},
     "output_type": "display_data"
    }
   ],
   "execution_count": 22
  },
  {
   "cell_type": "code",
   "metadata": {
    "execution": {
     "iopub.execute_input": "2024-12-18T15:10:57.698451Z",
     "iopub.status.busy": "2024-12-18T15:10:57.698088Z",
     "iopub.status.idle": "2024-12-18T15:10:59.108839Z",
     "shell.execute_reply": "2024-12-18T15:10:59.107861Z",
     "shell.execute_reply.started": "2024-12-18T15:10:57.698412Z"
    },
    "ExecuteTime": {
     "end_time": "2025-01-15T04:00:27.766238Z",
     "start_time": "2025-01-15T04:00:27.036314Z"
    }
   },
   "source": "model.save_pretrained(\"./output/kaggle/pretrained/results\")",
   "outputs": [],
   "execution_count": 23
  },
  {
   "cell_type": "code",
   "metadata": {
    "execution": {
     "iopub.execute_input": "2024-12-18T15:15:12.606959Z",
     "iopub.status.busy": "2024-12-18T15:15:12.605867Z",
     "iopub.status.idle": "2024-12-18T15:15:50.408885Z",
     "shell.execute_reply": "2024-12-18T15:15:50.407944Z",
     "shell.execute_reply.started": "2024-12-18T15:15:12.606869Z"
    },
    "ExecuteTime": {
     "end_time": "2025-01-15T04:00:36.879481Z",
     "start_time": "2025-01-15T04:00:28.373343Z"
    }
   },
   "source": [
    "test_texts, test_labels = prepare_data_for_training(df_test)\n",
    "test_dataset = TextClassificationDataset(test_texts, test_labels, tokenizer)\n",
    "\n",
    "from torch.utils.data import DataLoader\n",
    "import torch\n",
    "from util import model_summary, save_model_summary_dict, show_model_summary_dict\n",
    "\n",
    "test_loader = DataLoader(test_dataset, batch_size=best_params[\"batch_size\"], shuffle=False)\n",
    "\n",
    "model.eval()\n",
    "\n",
    "all_preds = []\n",
    "all_labels = []\n",
    "\n",
    "with torch.no_grad():\n",
    "    for batch in test_loader:\n",
    "        inputs = {key: val.to(model.device) for key, val in batch.items() if key != \"labels\"}\n",
    "        labels = batch['labels'].to(model.device)\n",
    "\n",
    "        # Forward pass\n",
    "        outputs = model(**inputs)\n",
    "        preds = torch.argmax(outputs.logits, dim=1)\n",
    "\n",
    "        # Collect predictions and labels\n",
    "        all_preds.extend(preds.cpu().numpy())\n",
    "        all_labels.extend(labels.cpu().numpy())\n",
    "\n",
    "\n",
    "summary = model_summary(all_labels, all_preds, list(LABELS.values()), \"BERT\", is_y_indices=True)\n",
    "save_model_summary_dict(summary)\n",
    "show_model_summary_dict(summary)\n"
   ],
   "outputs": [
    {
     "name": "stdout",
     "output_type": "stream",
     "text": [
      "BERT Accuracy: 0.77\n",
      "BERT Precision: 0.76\n",
      "BERT Recall: 0.77\n",
      "BERT F1: 0.76\n"
     ]
    },
    {
     "data": {
      "text/plain": [
       "<Figure size 800x600 with 2 Axes>"
      ],
      "image/png": "[encoded data removed]"
     },
     "metadata": {},
     "output_type": "display_data"
    }
   ],
   "execution_count": 24
  }
 ],
 "metadata": {
  "kaggle": {
   "accelerator": "nvidiaTeslaT4",
   "dataSources": [
    {
     "datasetId": 6302968,
     "sourceId": 10200063,
     "sourceType": "datasetVersion"
    },
    {
     "datasetId": 6329343,
     "sourceId": 10235887,
     "sourceType": "datasetVersion"
    }
   ],
   "dockerImageVersionId": 30804,
   "isGpuEnabled": true,
   "isInternetEnabled": true,
   "language": "python",
   "sourceType": "notebook"
  },
  "kernelspec": {
   "display_name": "Python 3 (ipykernel)",
   "language": "python",
   "name": "python3"
  },
  "language_info": {
   "codemirror_mode": {
    "name": "ipython",
    "version": 3
   },
   "file_extension": ".py",
   "mimetype": "text/x-python",
   "name": "python",
   "nbconvert_exporter": "python",
   "pygments_lexer": "ipython3",
   "version": "3.11.11"
  }
 },
 "nbformat": 4,
 "nbformat_minor": 4
}
